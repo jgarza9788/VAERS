{
 "cells": [
  {
   "cell_type": "markdown",
   "metadata": {},
   "source": [
    "# VAERS\n",
    "[https://github.com/jgarza9788/vaers](https://github.com/jgarza9788/vaers)\n",
    "---- "
   ]
  },
  {
   "cell_type": "markdown",
   "metadata": {
    "jp-MarkdownHeadingCollapsed": true
   },
   "source": [
    "\n",
    "# Disclaimer\n",
    "**THIS IS NOT MEDICAL ADVICE**   \n",
    "if you want medical advice please go see your doctor.  \n",
    "\n",
    "please also read the disclaimer on the VAERS data on their website.  \n",
    "[VAERS website](https://vaers.hhs.gov/data.html)\n"
   ]
  },
  {
   "cell_type": "markdown",
   "metadata": {},
   "source": [
    "\n",
    "# get started\n",
    "## 1. get the data\n",
    "\n",
    "download the data from VAERS website  \n",
    "[link to VAERS website](https://vaers.hhs.gov/data/datasets.html?)\n",
    "\n",
    "make sure to download the 2020-2022 data\n",
    "2022VAERSVAX.csv  \n",
    "2022VAERSSYMPTOMS.csv  \n",
    "2022VAERSDATA.csv  \n",
    "2021VAERSVAX.csv  \n",
    "2021VAERSSYMPTOMS.csv  \n",
    "2021VAERSDATA.csv  \n",
    "2020VAERSVAX.csv  \n",
    "2020VAERSSYMPTOMS.csv  \n",
    "2020VAERSDATA.csv \n",
    "\n",
    "\n",
    "## 2. move and unzip\n",
    "move the AllVAERSDataCSVS.zip to VAERS folder and unzip it  \n",
    "\n",
    "## 3. check the files\n",
    "\n",
    "you should have at least 6 files   \n",
    "```\n",
    ".../VAERS/AllVAERSDataCSVS/  \n",
    "    2022VAERSVAX.csv  \n",
    "    2022VAERSSYMPTOMS.csv  \n",
    "    2022VAERSDATA.csv  \n",
    "    ...\n",
    "    2020VAERSVAX.csv  \n",
    "    2020VAERSSYMPTOMS.csv  \n",
    "    2020VAERSDATA.csv  \n",
    "```"
   ]
  },
  {
   "cell_type": "markdown",
   "metadata": {},
   "source": [
    "# THE CODE!"
   ]
  },
  {
   "cell_type": "markdown",
   "metadata": {},
   "source": [
    "## setup/imports"
   ]
  },
  {
   "cell_type": "code",
   "execution_count": 24,
   "metadata": {},
   "outputs": [],
   "source": [
    "# Import needed libraries\n",
    "import pandas as pd\n",
    "import numpy as np\n",
    "import os, sys, re, json\n",
    "from collections import Counter\n",
    "\n",
    "# used for graphs/charts\n",
    "# import plotly.express as px  # too large \n",
    "import matplotlib.pyplot as plt\n",
    "import seaborn as sns\n",
    "\n",
    "from IPython.display import display, HTML # needed for IPYNB\n"
   ]
  },
  {
   "cell_type": "code",
   "execution_count": 25,
   "metadata": {},
   "outputs": [],
   "source": [
    "# set pandas options\n",
    "pd.options.display.float_format = '{:,.2f}'.format\n",
    "pd.set_option('display.max_columns', None)\n",
    "pd.set_option('display.max_rows', None)\n",
    "pd.set_option('display.max_colwidth', None)"
   ]
  },
  {
   "cell_type": "markdown",
   "metadata": {},
   "source": [
    "## directory variables\n",
    "\n",
    "DIR (String) : the current directory this file is in  \n",
    "DATAPATH (String) : the location where the data files are stored"
   ]
  },
  {
   "cell_type": "code",
   "execution_count": 26,
   "metadata": {},
   "outputs": [
    {
     "name": "stdout",
     "output_type": "stream",
     "text": [
      "DATAPATH:  .\\AllVAERSDataCSVS\n"
     ]
    }
   ],
   "source": [
    "\n",
    "# DIR = os.path.dirname(os.path.realpath(__file__)) #doesn't work due to IPYNB file\n",
    "DIR = '.' #this works in IPYNB\n",
    "DATAPATH = os.path.join(DIR,'AllVAERSDataCSVS')\n",
    "\n",
    "print('DATAPATH: ',DATAPATH)"
   ]
  },
  {
   "cell_type": "markdown",
   "metadata": {},
   "source": [
    "## Saving and Loading JSON files"
   ]
  },
  {
   "cell_type": "code",
   "execution_count": 27,
   "metadata": {},
   "outputs": [],
   "source": [
    "# LOADING AND SAVING JSON FILES\n",
    "\n",
    "def load_json(path_to_file):\n",
    "    \"\"\"\n",
    "    loads json from file\n",
    "    \"\"\"\n",
    "    with open(path_to_file, 'r') as f:\n",
    "        return json.load(f)\n",
    "\n",
    "def save_json(path_to_file,data):\n",
    "    \"\"\"\n",
    "    writes dict/json to file\n",
    "    \"\"\"\n",
    "    with open(path_to_file, 'w') as f:\n",
    "        json.dump(data, f,indent=4)\n",
    "\n",
    "## test\n",
    "# save_json(os.path.join(DATAPATH,'test.json'),{\"HELLO\":0})\n",
    "# print(load_json(os.path.join(DATAPATH,'test.json')))"
   ]
  },
  {
   "cell_type": "markdown",
   "metadata": {},
   "source": [
    "## processing files\n",
    "\n",
    "the functions flow will process the csv files into one all_data.json file"
   ]
  },
  {
   "cell_type": "code",
   "execution_count": 28,
   "metadata": {},
   "outputs": [],
   "source": [
    "\n",
    "def has_covid(text):\n",
    "    \"\"\"\n",
    "    returns 1 or 0 if text has \\'COVID\\' in it\n",
    "    \"\"\"\n",
    "    if re.search('COVID',text.upper()):\n",
    "        return 1\n",
    "    else:\n",
    "        return 0\n",
    "        \n",
    "def compile_files(directory,files):\n",
    "    \"\"\"\n",
    "    compiles/adds/unions multiple csv files together and returns a dataframe\n",
    "    \"\"\"\n",
    "    df = pd.DataFrame()\n",
    "    for i,f in enumerate(files):\n",
    "        df0 = pd.read_csv(os.path.join(directory,f),encoding='cp1252',low_memory=False)\n",
    "        df = pd.concat([df,df0])\n",
    "    return df\n",
    "\n",
    "def process_to_one_file():\n",
    "    \"\"\"\n",
    "    processes VAERS data from 2020 - 2022, creates all_data.json, and returns a dataframe\n",
    "    \"\"\"\n",
    "    print('process to one file\\n\\tthis might take a while...go get a drink☕🍷🍸🍹🍶🍺\\n')\n",
    "    df_data = compile_files(DATAPATH,['2020VAERSDATA.csv','2021VAERSDATA.csv','2022VAERSDATA.csv'])\n",
    "    df_vax = compile_files(DATAPATH,['2020VAERSVAX.csv','2021VAERSVAX.csv','2022VAERSVAX.csv'])\n",
    "    df_sym = compile_files(DATAPATH,['2020VAERSSYMPTOMS.csv','2021VAERSSYMPTOMS.csv','2022VAERSSYMPTOMS.csv'])\n",
    "\n",
    "    # print(\"\"\"\n",
    "    # symptoms are contained in columns (up to 5 symptoms per event)\n",
    "    # we must transform these symptoms into a single list for each event\n",
    "    # \"\"\")\n",
    "    print('dedup-ing Symptoms')\n",
    "    vid = list(df_sym['VAERS_ID'].unique())\n",
    "\n",
    "    symptom_columns = [\n",
    "        'SYMPTOM1',\n",
    "        'SYMPTOM2',\n",
    "        'SYMPTOM3',\n",
    "        'SYMPTOM4',\n",
    "        'SYMPTOM5'\n",
    "    ]\n",
    "\n",
    "    idf_sym = []\n",
    "    for index,v in enumerate(vid):\n",
    "        if index%5000 == 0:\n",
    "            print('{:.2f}'.format(index/len(vid)), end='\\r')\n",
    "        temp = df_sym[df_sym['VAERS_ID'] == v]\n",
    "        temp = temp.to_dict(orient='records')\n",
    "        syms = []\n",
    "        for t in temp:\n",
    "            for sc in symptom_columns:\n",
    "                if isinstance(t[sc],str):\n",
    "                    syms.append(t[sc])\n",
    "        idf_sym.append({'VAERS_ID':v,'SYMPTOMS':syms})\n",
    "    df_sym = pd.DataFrame(idf_sym)\n",
    "\n",
    "    print('merge data')\n",
    "    df = pd.merge(df_data,df_vax,how='outer',on='VAERS_ID')\n",
    "    df = df.drop_duplicates(ignore_index = True)\n",
    "    df = pd.merge(df,df_sym,how='outer',on='VAERS_ID')\n",
    "\n",
    "    df.reset_index()\n",
    "\n",
    "    # creating a new column depending if this is the covid vaccine or not\n",
    "    df['COVID_VAX'] = df['VAX_TYPE'].apply(has_covid)\n",
    "    df = df[df['COVID_VAX'] == 1]\n",
    "    # print(len(df))\n",
    "\n",
    "    #save json file\n",
    "    json_file = os.path.join(DATAPATH,'all_data.json')\n",
    "    save_json(json_file,df.to_dict(orient='records'))\n",
    "    print('saved: ',json_file)\n",
    "\n",
    "    #save out csv file (not needed), but people might like a csv\n",
    "    csv_file = os.path.join(DATAPATH,'all_data.csv') \n",
    "    df.to_csv(csv_file)\n",
    "    print('saved: ',csv_file)\n",
    "\n",
    "    return df\n"
   ]
  },
  {
   "cell_type": "markdown",
   "metadata": {},
   "source": [
    "## get data\n",
    "the below will get data from the files or from all_data.json.\n",
    "\n",
    "> please note\n",
    "i am only using 25% of the data below, but you can see the .pdf for how this will look with all the data, or edit and run the notebook on your own.\n",
    "\n",
    "\n",
    "df (DataFrame) :  contains all the datafrom VAERS files listed below\n",
    "* .../VAERS/AllVAERSDataCSVS/  \n",
    "    * 2022VAERSVAX.csv  \n",
    "    * 2022VAERSSYMPTOMS.csv  \n",
    "    * 2022VAERSDATA.csv  \n",
    "    * ...\n",
    "    * 2020VAERSVAX.csv  \n",
    "    * 2020VAERSSYMPTOMS.csv  \n",
    "    * 2020VAERSDATA.csv "
   ]
  },
  {
   "cell_type": "code",
   "execution_count": 29,
   "metadata": {},
   "outputs": [
    {
     "name": "stdout",
     "output_type": "stream",
     "text": [
      "loading all_data.json (15sec-30sec)\n",
      "\n",
      "loaded 946,527 records/rows\n",
      "\n",
      "columns:\n",
      " ['VAERS_ID', 'RECVDATE', 'STATE', 'AGE_YRS', 'CAGE_YR', 'CAGE_MO', 'SEX', 'RPT_DATE', 'SYMPTOM_TEXT', 'DIED', 'DATEDIED', 'L_THREAT', 'ER_VISIT', 'HOSPITAL', 'HOSPDAYS', 'X_STAY', 'DISABLE', 'RECOVD', 'VAX_DATE', 'ONSET_DATE', 'NUMDAYS', 'LAB_DATA', 'V_ADMINBY', 'V_FUNDBY', 'OTHER_MEDS', 'CUR_ILL', 'HISTORY', 'PRIOR_VAX', 'SPLTTYPE', 'FORM_VERS', 'TODAYS_DATE', 'BIRTH_DEFECT', 'OFC_VISIT', 'ER_ED_VISIT', 'ALLERGIES', 'VAX_TYPE', 'VAX_MANU', 'VAX_LOT', 'VAX_DOSE_SERIES', 'VAX_ROUTE', 'VAX_SITE', 'VAX_NAME', 'SYMPTOMS', 'COVID_VAX']\n",
      "\n",
      "\n",
      "df.head(10):\n",
      "\n"
     ]
    },
    {
     "data": {
      "text/html": [
       "<div>\n",
       "<style scoped>\n",
       "    .dataframe tbody tr th:only-of-type {\n",
       "        vertical-align: middle;\n",
       "    }\n",
       "\n",
       "    .dataframe tbody tr th {\n",
       "        vertical-align: top;\n",
       "    }\n",
       "\n",
       "    .dataframe thead th {\n",
       "        text-align: right;\n",
       "    }\n",
       "</style>\n",
       "<table border=\"1\" class=\"dataframe\">\n",
       "  <thead>\n",
       "    <tr style=\"text-align: right;\">\n",
       "      <th></th>\n",
       "      <th>VAERS_ID</th>\n",
       "      <th>RECVDATE</th>\n",
       "      <th>STATE</th>\n",
       "      <th>AGE_YRS</th>\n",
       "      <th>CAGE_YR</th>\n",
       "      <th>CAGE_MO</th>\n",
       "      <th>SEX</th>\n",
       "      <th>RPT_DATE</th>\n",
       "      <th>SYMPTOM_TEXT</th>\n",
       "      <th>DIED</th>\n",
       "      <th>DATEDIED</th>\n",
       "      <th>L_THREAT</th>\n",
       "      <th>ER_VISIT</th>\n",
       "      <th>HOSPITAL</th>\n",
       "      <th>HOSPDAYS</th>\n",
       "      <th>X_STAY</th>\n",
       "      <th>DISABLE</th>\n",
       "      <th>RECOVD</th>\n",
       "      <th>VAX_DATE</th>\n",
       "      <th>ONSET_DATE</th>\n",
       "      <th>NUMDAYS</th>\n",
       "      <th>LAB_DATA</th>\n",
       "      <th>V_ADMINBY</th>\n",
       "      <th>V_FUNDBY</th>\n",
       "      <th>OTHER_MEDS</th>\n",
       "      <th>CUR_ILL</th>\n",
       "      <th>HISTORY</th>\n",
       "      <th>PRIOR_VAX</th>\n",
       "      <th>SPLTTYPE</th>\n",
       "      <th>FORM_VERS</th>\n",
       "      <th>TODAYS_DATE</th>\n",
       "      <th>BIRTH_DEFECT</th>\n",
       "      <th>OFC_VISIT</th>\n",
       "      <th>ER_ED_VISIT</th>\n",
       "      <th>ALLERGIES</th>\n",
       "      <th>VAX_TYPE</th>\n",
       "      <th>VAX_MANU</th>\n",
       "      <th>VAX_LOT</th>\n",
       "      <th>VAX_DOSE_SERIES</th>\n",
       "      <th>VAX_ROUTE</th>\n",
       "      <th>VAX_SITE</th>\n",
       "      <th>VAX_NAME</th>\n",
       "      <th>SYMPTOMS</th>\n",
       "      <th>COVID_VAX</th>\n",
       "    </tr>\n",
       "  </thead>\n",
       "  <tbody>\n",
       "    <tr>\n",
       "      <th>0</th>\n",
       "      <td>902418</td>\n",
       "      <td>12/15/2020</td>\n",
       "      <td>NJ</td>\n",
       "      <td>56.00</td>\n",
       "      <td>56.00</td>\n",
       "      <td>NaN</td>\n",
       "      <td>F</td>\n",
       "      <td>NaN</td>\n",
       "      <td>Patient experienced mild numbness traveling from injection site up and down arm that subsided over 20 minutes.</td>\n",
       "      <td>N</td>\n",
       "      <td>NaN</td>\n",
       "      <td>N</td>\n",
       "      <td>N</td>\n",
       "      <td>N</td>\n",
       "      <td>NaN</td>\n",
       "      <td>NaN</td>\n",
       "      <td>NaN</td>\n",
       "      <td>Y</td>\n",
       "      <td>12/15/2020</td>\n",
       "      <td>12/15/2020</td>\n",
       "      <td>0.00</td>\n",
       "      <td>none</td>\n",
       "      <td>PVT</td>\n",
       "      <td>NaN</td>\n",
       "      <td>latex</td>\n",
       "      <td>none</td>\n",
       "      <td>none</td>\n",
       "      <td>NaN</td>\n",
       "      <td>NaN</td>\n",
       "      <td>2</td>\n",
       "      <td>12/15/2020</td>\n",
       "      <td>NaN</td>\n",
       "      <td>NaN</td>\n",
       "      <td>NaN</td>\n",
       "      <td>none</td>\n",
       "      <td>COVID19</td>\n",
       "      <td>PFIZER\\BIONTECH</td>\n",
       "      <td>EH9899</td>\n",
       "      <td>1</td>\n",
       "      <td>IM</td>\n",
       "      <td>LA</td>\n",
       "      <td>COVID19 (COVID19 (PFIZER-BIONTECH))</td>\n",
       "      <td>[Hypoaesthesia, Injection site hypoaesthesia]</td>\n",
       "      <td>1</td>\n",
       "    </tr>\n",
       "    <tr>\n",
       "      <th>1</th>\n",
       "      <td>902440</td>\n",
       "      <td>12/15/2020</td>\n",
       "      <td>AZ</td>\n",
       "      <td>35.00</td>\n",
       "      <td>35.00</td>\n",
       "      <td>NaN</td>\n",
       "      <td>F</td>\n",
       "      <td>NaN</td>\n",
       "      <td>C/O Headache</td>\n",
       "      <td>N</td>\n",
       "      <td>NaN</td>\n",
       "      <td>N</td>\n",
       "      <td>N</td>\n",
       "      <td>N</td>\n",
       "      <td>NaN</td>\n",
       "      <td>NaN</td>\n",
       "      <td>NaN</td>\n",
       "      <td>Y</td>\n",
       "      <td>12/15/2020</td>\n",
       "      <td>12/15/2020</td>\n",
       "      <td>0.00</td>\n",
       "      <td>none</td>\n",
       "      <td>PVT</td>\n",
       "      <td>NaN</td>\n",
       "      <td>NaN</td>\n",
       "      <td>NaN</td>\n",
       "      <td>NaN</td>\n",
       "      <td>NaN</td>\n",
       "      <td>NaN</td>\n",
       "      <td>2</td>\n",
       "      <td>12/15/2020</td>\n",
       "      <td>NaN</td>\n",
       "      <td>NaN</td>\n",
       "      <td>NaN</td>\n",
       "      <td>NaN</td>\n",
       "      <td>COVID19</td>\n",
       "      <td>PFIZER\\BIONTECH</td>\n",
       "      <td>EH 9899</td>\n",
       "      <td>1</td>\n",
       "      <td>SYR</td>\n",
       "      <td>LA</td>\n",
       "      <td>COVID19 (COVID19 (PFIZER-BIONTECH))</td>\n",
       "      <td>[Headache]</td>\n",
       "      <td>1</td>\n",
       "    </tr>\n",
       "  </tbody>\n",
       "</table>\n",
       "</div>"
      ],
      "text/plain": [
       "   VAERS_ID    RECVDATE STATE  AGE_YRS  CAGE_YR  CAGE_MO SEX RPT_DATE  \\\n",
       "0    902418  12/15/2020    NJ    56.00    56.00      NaN   F      NaN   \n",
       "1    902440  12/15/2020    AZ    35.00    35.00      NaN   F      NaN   \n",
       "\n",
       "                                                                                                     SYMPTOM_TEXT  \\\n",
       "0  Patient experienced mild numbness traveling from injection site up and down arm that subsided over 20 minutes.   \n",
       "1                                                                                                    C/O Headache   \n",
       "\n",
       "  DIED DATEDIED L_THREAT ER_VISIT HOSPITAL  HOSPDAYS X_STAY DISABLE RECOVD  \\\n",
       "0    N      NaN        N        N        N       NaN    NaN     NaN      Y   \n",
       "1    N      NaN        N        N        N       NaN    NaN     NaN      Y   \n",
       "\n",
       "     VAX_DATE  ONSET_DATE  NUMDAYS LAB_DATA V_ADMINBY V_FUNDBY OTHER_MEDS  \\\n",
       "0  12/15/2020  12/15/2020     0.00     none       PVT      NaN      latex   \n",
       "1  12/15/2020  12/15/2020     0.00     none       PVT      NaN        NaN   \n",
       "\n",
       "  CUR_ILL HISTORY PRIOR_VAX SPLTTYPE  FORM_VERS TODAYS_DATE BIRTH_DEFECT  \\\n",
       "0    none    none       NaN      NaN          2  12/15/2020          NaN   \n",
       "1     NaN     NaN       NaN      NaN          2  12/15/2020          NaN   \n",
       "\n",
       "  OFC_VISIT ER_ED_VISIT ALLERGIES VAX_TYPE         VAX_MANU  VAX_LOT  \\\n",
       "0       NaN         NaN      none  COVID19  PFIZER\\BIONTECH   EH9899   \n",
       "1       NaN         NaN       NaN  COVID19  PFIZER\\BIONTECH  EH 9899   \n",
       "\n",
       "  VAX_DOSE_SERIES VAX_ROUTE VAX_SITE                             VAX_NAME  \\\n",
       "0               1        IM       LA  COVID19 (COVID19 (PFIZER-BIONTECH))   \n",
       "1               1       SYR       LA  COVID19 (COVID19 (PFIZER-BIONTECH))   \n",
       "\n",
       "                                        SYMPTOMS  COVID_VAX  \n",
       "0  [Hypoaesthesia, Injection site hypoaesthesia]          1  \n",
       "1                                     [Headache]          1  "
      ]
     },
     "metadata": {},
     "output_type": "display_data"
    }
   ],
   "source": [
    "def get_data():\n",
    "    \"\"\"\n",
    "    gets the data and returns a dataframe\n",
    "    \"\"\"\n",
    "\n",
    "    all_data = os.path.join(DATAPATH,'all_data.json')\n",
    "\n",
    "    if os.path.isfile(all_data):\n",
    "        print('loading all_data.json (15sec-30sec)')\n",
    "        df = load_json(all_data)\n",
    "        df = pd.DataFrame(df)\n",
    "    else:\n",
    "        print('processing the 2020-2022 files')\n",
    "        print(\"\"\"\n",
    "        .../VAERS/AllVAERSDataCSVS/  \n",
    "            20??VAERSVAX.csv  \n",
    "            20??VAERSSYMPTOMS.csv  \n",
    "            20??VAERSDATA.csv  \n",
    "        \"\"\")\n",
    "        df = process_to_one_file()\n",
    "\n",
    "    return df\n",
    "\n",
    "df = get_data() # this will get all the data\n",
    "# df = get_data().sample(int(946527 * 0.25)) # only 25% of the data\n",
    "\n",
    "# assuming null for these is No\n",
    "df.loc[df['DIED'].isna(),'DIED'] = 'N'\n",
    "df.loc[df['L_THREAT'].isna(),'L_THREAT'] = 'N'\n",
    "df.loc[df['ER_VISIT'].isna(),'ER_VISIT'] = 'N'\n",
    "df.loc[df['HOSPITAL'].isna(),'HOSPITAL'] = 'N'\n",
    "\n",
    "print('\\nloaded {:,} records/rows\\n'.format(len(df)))\n",
    "print('columns:\\n',df.columns.to_list())\n",
    "print('\\n\\ndf.head(10):\\n')\n",
    "display(df.head(2))"
   ]
  },
  {
   "cell_type": "code",
   "execution_count": 30,
   "metadata": {},
   "outputs": [],
   "source": [
    "def print_row(items,column_lengths=[]):\n",
    "    \"\"\"\n",
    "    comes in handly :)\n",
    "    \"\"\"\n",
    "    row = ''\n",
    "    for index,i in enumerate(items):\n",
    "        try:\n",
    "            cl = column_lengths[index]\n",
    "        except IndexError:\n",
    "            cl = 20\n",
    "        row += str(i)[0:cl].ljust(cl)\n",
    "    print(row)"
   ]
  },
  {
   "cell_type": "markdown",
   "metadata": {},
   "source": [
    "## gets a list of symptoms\n",
    "\n",
    "df_symptoms (DataFrame) : a list of all the symtoms and the counts of each \n",
    "all_symptoms (list): a list of all the symtoms and the counts of each \n",
    "\n",
    "**note:**   \n",
    "symptoms might be medical jargon or plain english  \n",
    "i.e. \"RASH\",\"ERYTHEMA\", and \"ITCHY RED SKIN\"   \n",
    "would be reported as different items (for now)\n",
    "\n",
    "**note:**  \n",
    "the counts/percentages below are of the symptoms.  \n",
    "and one adverse reaction can have multiple symptoms."
   ]
  },
  {
   "cell_type": "code",
   "execution_count": 31,
   "metadata": {},
   "outputs": [
    {
     "name": "stdout",
     "output_type": "stream",
     "text": [
      "saved:  .\\AllVAERSDataCSVS\\symptoms.csv\n",
      "below are the top 25 symptoms\n"
     ]
    },
    {
     "data": {
      "text/html": [
       "<div>\n",
       "<style scoped>\n",
       "    .dataframe tbody tr th:only-of-type {\n",
       "        vertical-align: middle;\n",
       "    }\n",
       "\n",
       "    .dataframe tbody tr th {\n",
       "        vertical-align: top;\n",
       "    }\n",
       "\n",
       "    .dataframe thead th {\n",
       "        text-align: right;\n",
       "    }\n",
       "</style>\n",
       "<table border=\"1\" class=\"dataframe\">\n",
       "  <thead>\n",
       "    <tr style=\"text-align: right;\">\n",
       "      <th></th>\n",
       "      <th>SYMPTOM</th>\n",
       "      <th>COUNT</th>\n",
       "      <th>PERCENT</th>\n",
       "    </tr>\n",
       "  </thead>\n",
       "  <tbody>\n",
       "    <tr>\n",
       "      <th>0</th>\n",
       "      <td>HEADACHE</td>\n",
       "      <td>144140</td>\n",
       "      <td>3.53</td>\n",
       "    </tr>\n",
       "    <tr>\n",
       "      <th>1</th>\n",
       "      <td>FATIGUE</td>\n",
       "      <td>126025</td>\n",
       "      <td>3.09</td>\n",
       "    </tr>\n",
       "    <tr>\n",
       "      <th>2</th>\n",
       "      <td>PYREXIA</td>\n",
       "      <td>126019</td>\n",
       "      <td>3.09</td>\n",
       "    </tr>\n",
       "    <tr>\n",
       "      <th>3</th>\n",
       "      <td>PAIN</td>\n",
       "      <td>107523</td>\n",
       "      <td>2.63</td>\n",
       "    </tr>\n",
       "    <tr>\n",
       "      <th>4</th>\n",
       "      <td>CHILLS</td>\n",
       "      <td>102390</td>\n",
       "      <td>2.51</td>\n",
       "    </tr>\n",
       "    <tr>\n",
       "      <th>5</th>\n",
       "      <td>COVID-19</td>\n",
       "      <td>86311</td>\n",
       "      <td>2.11</td>\n",
       "    </tr>\n",
       "    <tr>\n",
       "      <th>6</th>\n",
       "      <td>PAIN IN EXTREMITY</td>\n",
       "      <td>80762</td>\n",
       "      <td>1.98</td>\n",
       "    </tr>\n",
       "    <tr>\n",
       "      <th>7</th>\n",
       "      <td>NAUSEA</td>\n",
       "      <td>80440</td>\n",
       "      <td>1.97</td>\n",
       "    </tr>\n",
       "    <tr>\n",
       "      <th>8</th>\n",
       "      <td>DIZZINESS</td>\n",
       "      <td>80340</td>\n",
       "      <td>1.97</td>\n",
       "    </tr>\n",
       "    <tr>\n",
       "      <th>9</th>\n",
       "      <td>SARS-COV-2 TEST POSITIVE</td>\n",
       "      <td>60134</td>\n",
       "      <td>1.47</td>\n",
       "    </tr>\n",
       "    <tr>\n",
       "      <th>10</th>\n",
       "      <td>DYSPNOEA</td>\n",
       "      <td>54926</td>\n",
       "      <td>1.34</td>\n",
       "    </tr>\n",
       "    <tr>\n",
       "      <th>11</th>\n",
       "      <td>MYALGIA</td>\n",
       "      <td>50024</td>\n",
       "      <td>1.22</td>\n",
       "    </tr>\n",
       "    <tr>\n",
       "      <th>12</th>\n",
       "      <td>ARTHRALGIA</td>\n",
       "      <td>49897</td>\n",
       "      <td>1.22</td>\n",
       "    </tr>\n",
       "    <tr>\n",
       "      <th>13</th>\n",
       "      <td>INJECTION SITE PAIN</td>\n",
       "      <td>43769</td>\n",
       "      <td>1.07</td>\n",
       "    </tr>\n",
       "    <tr>\n",
       "      <th>14</th>\n",
       "      <td>RASH</td>\n",
       "      <td>43330</td>\n",
       "      <td>1.06</td>\n",
       "    </tr>\n",
       "    <tr>\n",
       "      <th>15</th>\n",
       "      <td>PRURITUS</td>\n",
       "      <td>39047</td>\n",
       "      <td>0.96</td>\n",
       "    </tr>\n",
       "    <tr>\n",
       "      <th>16</th>\n",
       "      <td>ASTHENIA</td>\n",
       "      <td>37502</td>\n",
       "      <td>0.92</td>\n",
       "    </tr>\n",
       "    <tr>\n",
       "      <th>17</th>\n",
       "      <td>COUGH</td>\n",
       "      <td>34580</td>\n",
       "      <td>0.85</td>\n",
       "    </tr>\n",
       "    <tr>\n",
       "      <th>18</th>\n",
       "      <td>VOMITING</td>\n",
       "      <td>34188</td>\n",
       "      <td>0.84</td>\n",
       "    </tr>\n",
       "    <tr>\n",
       "      <th>19</th>\n",
       "      <td>EXPIRED PRODUCT ADMINISTERED</td>\n",
       "      <td>30502</td>\n",
       "      <td>0.75</td>\n",
       "    </tr>\n",
       "    <tr>\n",
       "      <th>20</th>\n",
       "      <td>INJECTION SITE ERYTHEMA</td>\n",
       "      <td>29368</td>\n",
       "      <td>0.72</td>\n",
       "    </tr>\n",
       "    <tr>\n",
       "      <th>21</th>\n",
       "      <td>SARS-COV-2 TEST</td>\n",
       "      <td>29300</td>\n",
       "      <td>0.72</td>\n",
       "    </tr>\n",
       "    <tr>\n",
       "      <th>22</th>\n",
       "      <td>DIARRHOEA</td>\n",
       "      <td>29093</td>\n",
       "      <td>0.71</td>\n",
       "    </tr>\n",
       "    <tr>\n",
       "      <th>23</th>\n",
       "      <td>FEELING ABNORMAL</td>\n",
       "      <td>28701</td>\n",
       "      <td>0.70</td>\n",
       "    </tr>\n",
       "    <tr>\n",
       "      <th>24</th>\n",
       "      <td>CHEST PAIN</td>\n",
       "      <td>28067</td>\n",
       "      <td>0.69</td>\n",
       "    </tr>\n",
       "  </tbody>\n",
       "</table>\n",
       "</div>"
      ],
      "text/plain": [
       "                         SYMPTOM   COUNT  PERCENT\n",
       "0                       HEADACHE  144140     3.53\n",
       "1                        FATIGUE  126025     3.09\n",
       "2                        PYREXIA  126019     3.09\n",
       "3                           PAIN  107523     2.63\n",
       "4                         CHILLS  102390     2.51\n",
       "5                       COVID-19   86311     2.11\n",
       "6              PAIN IN EXTREMITY   80762     1.98\n",
       "7                         NAUSEA   80440     1.97\n",
       "8                      DIZZINESS   80340     1.97\n",
       "9       SARS-COV-2 TEST POSITIVE   60134     1.47\n",
       "10                      DYSPNOEA   54926     1.34\n",
       "11                       MYALGIA   50024     1.22\n",
       "12                    ARTHRALGIA   49897     1.22\n",
       "13           INJECTION SITE PAIN   43769     1.07\n",
       "14                          RASH   43330     1.06\n",
       "15                      PRURITUS   39047     0.96\n",
       "16                      ASTHENIA   37502     0.92\n",
       "17                         COUGH   34580     0.85\n",
       "18                      VOMITING   34188     0.84\n",
       "19  EXPIRED PRODUCT ADMINISTERED   30502     0.75\n",
       "20       INJECTION SITE ERYTHEMA   29368     0.72\n",
       "21               SARS-COV-2 TEST   29300     0.72\n",
       "22                     DIARRHOEA   29093     0.71\n",
       "23              FEELING ABNORMAL   28701     0.70\n",
       "24                    CHEST PAIN   28067     0.69"
      ]
     },
     "metadata": {},
     "output_type": "display_data"
    }
   ],
   "source": [
    "def get_symptom_list(df,column='SYMPTOMS'):\n",
    "    \"\"\"\n",
    "    returns a list of symptoms for the dataframe\n",
    "    \"\"\"\n",
    "    s = df[column].to_list()\n",
    "    l = []\n",
    "    for i in s:\n",
    "        try:\n",
    "            for j in i:\n",
    "                if str(j) == 'nan':\n",
    "                    pass\n",
    "                else:\n",
    "                    l.append(str(j).upper())\n",
    "        except:\n",
    "            pass\n",
    "    return l\n",
    "\n",
    "all_symptoms =  get_symptom_list(df,'SYMPTOMS')\n",
    "symptoms_count = len(all_symptoms)\n",
    "all_symptoms = Counter(all_symptoms).most_common()\n",
    "\n",
    "df_symptoms = pd.DataFrame(all_symptoms,columns=['SYMPTOM','COUNT'])\n",
    "df_symptoms['PERCENT'] = (df_symptoms['COUNT']/symptoms_count)*100\n",
    "\n",
    "file_name = os.path.join(DATAPATH,'symptoms.csv')\n",
    "df_symptoms.to_csv(file_name)\n",
    "print('saved: ',file_name)\n",
    "\n",
    "topX = 25\n",
    "print('below are the top {} symptoms'.format(topX))\n",
    "display(df_symptoms.head(topX))\n",
    "\n"
   ]
  },
  {
   "cell_type": "code",
   "execution_count": 42,
   "metadata": {},
   "outputs": [
    {
     "data": {
      "text/plain": [
       "[Text(0.5, 1.0, 'the top 25 Symptoms (by most frequent)')]"
      ]
     },
     "execution_count": 42,
     "metadata": {},
     "output_type": "execute_result"
    },
    {
     "data": {
      "image/png": "[encoded data removed]",
      "text/plain": [
       "<Figure size 640x480 with 1 Axes>"
      ]
     },
     "metadata": {},
     "output_type": "display_data"
    }
   ],
   "source": [
    "\n",
    "# lets put it in a histogram!\n",
    "\n",
    "# fig = px.histogram(\n",
    "#     df_symptoms.head(topX), \n",
    "#     x=\"SYMPTOM\", \n",
    "#     y=\"PERCENT\", \n",
    "#     # marginal=\"rug\", # can be `box`, `violin`\n",
    "#      hover_data=df_symptoms.head(topX).columns\n",
    "#     )\n",
    "# fig.show()\n",
    "\n",
    "sns.barplot(\n",
    "    data=df_symptoms.head(topX),\n",
    "    x=\"PERCENT\", \n",
    "    y=\"SYMPTOM\",\n",
    "    # hue=\"PERCENT\"\n",
    "    palette = \"Spectral\"\n",
    "    ).set(title=f'the top {topX} Symptoms (by most frequent)')\n"
   ]
  },
  {
   "cell_type": "markdown",
   "metadata": {},
   "source": [
    "## break down functions...\n",
    "these functions will help me breakdown the data"
   ]
  },
  {
   "cell_type": "markdown",
   "metadata": {},
   "source": [
    "### break_down_columns"
   ]
  },
  {
   "cell_type": "code",
   "execution_count": 33,
   "metadata": {},
   "outputs": [],
   "source": [
    "\n",
    "def break_down_columns(idf,column):\n",
    "    \"\"\"\n",
    "    shows what values there are for a given column (with counts and percent)\n",
    "    \"\"\"\n",
    "    print('\\nbreak down of {0}'.format(column))\n",
    "    idf = pd.DataFrame(idf[column])\n",
    "    idf = idf.fillna('nan')\n",
    "\n",
    "    result = []\n",
    "\n",
    "    l = list(idf[column].unique())\n",
    "    for i in l:\n",
    "        df0 = idf[idf[column]==i]\n",
    "        result.append({'column':column,'value':i,'count':len(df0),'percent':(len(df0)/len(idf))*100})\n",
    "    \n",
    "    result = pd.DataFrame(result)\n",
    "    display(result)\n",
    "    return result\n",
    "\n",
    "# test\n",
    "# break_down_columns(df,'DIED')\n",
    "\n"
   ]
  },
  {
   "cell_type": "markdown",
   "metadata": {},
   "source": [
    "### break_down_buckets"
   ]
  },
  {
   "cell_type": "code",
   "execution_count": 34,
   "metadata": {},
   "outputs": [],
   "source": [
    "\n",
    "\n",
    "def break_down_buckets(idf,column,buckets,message='',nan_value=-1):\n",
    "    \"\"\"\n",
    "    breaks a column down into buckets/bins\n",
    "    \"\"\"\n",
    "    idf = idf.fillna(nan_value)\n",
    "\n",
    "    print('',message,'\\ncolumn: ',column, '\\nbuckets: ', buckets)\n",
    "    \n",
    "    idf = pd.DataFrame(idf[column])\n",
    "    idf['bucket'] = pd.cut(idf[column], bins=buckets)\n",
    "    idf = idf.groupby(by='bucket').count()\n",
    "    idf['percent'] = (idf[column]/idf[column].sum())*100\n",
    "    idf['percent'] = idf['percent'].round(2)\n",
    "    display(idf)\n",
    "\n",
    "    return idf\n",
    "\n",
    "#test\n",
    "# break_down_buckets(df,'AGE_YRS',[-1,0,15,25,35,45,55,65,75,85,500])\n"
   ]
  },
  {
   "cell_type": "markdown",
   "metadata": {},
   "source": [
    "## Additional Numbers\n",
    "\n",
    "~~these numbers are **not** part of the vaers data,  \n",
    "however they are important to analyzing the data~~\n",
    "\n",
    "~~vaxx (int) : the number of vaccinated (1 or more shots) US citizens according to a quick google search (on 8/3/2021)~~\n",
    "\n",
    "~~**google no longer shows partially vaxxed**  so we are using the **Total doses given** number  \n",
    "\"Total doses given\" shows the number of vaccine doses given to people. Since some vaccines require more than 1 dose, the number of fully vaccinated people is likely lower. \"People fully vaccinated\" shows how many people have received the full amount of doses for the COVID-19 vaccine.  ~~\n",
    "\n",
    "~~This number was updated on 06/28/2022~~\n",
    "\n",
    "~~full_vaxx (int) : the number of vaccinated (2 or more shots) US citizens according to a quick google search (on 06/28/2022)~~\n",
    "\n",
    "the numbers were taken from https://usafacts.org/visualizations/covid-vaccine-tracker-states\n",
    "on 11/18/2022"
   ]
  },
  {
   "cell_type": "code",
   "execution_count": 35,
   "metadata": {},
   "outputs": [],
   "source": [
    "vaxx = 262_908_216 + 224_113_439 + 108_806_974\n",
    "full_vaxx = 224_113_439"
   ]
  },
  {
   "cell_type": "code",
   "execution_count": 36,
   "metadata": {},
   "outputs": [],
   "source": [
    "#only death vaers\n",
    "df_death = df[df['DIED']=='Y']"
   ]
  },
  {
   "cell_type": "markdown",
   "metadata": {},
   "source": [
    "## Analyzing the df (all_data.json)\n",
    "this is just a generic break down of the data\n",
    "\n",
    "df_death (DataFrame) :  adverse reactions that resulted in a death"
   ]
  },
  {
   "cell_type": "markdown",
   "metadata": {},
   "source": [
    "### DIED column"
   ]
  },
  {
   "cell_type": "code",
   "execution_count": 43,
   "metadata": {},
   "outputs": [
    {
     "name": "stdout",
     "output_type": "stream",
     "text": [
      "\n",
      "break down of DIED\n"
     ]
    },
    {
     "data": {
      "text/html": [
       "<div>\n",
       "<style scoped>\n",
       "    .dataframe tbody tr th:only-of-type {\n",
       "        vertical-align: middle;\n",
       "    }\n",
       "\n",
       "    .dataframe tbody tr th {\n",
       "        vertical-align: top;\n",
       "    }\n",
       "\n",
       "    .dataframe thead th {\n",
       "        text-align: right;\n",
       "    }\n",
       "</style>\n",
       "<table border=\"1\" class=\"dataframe\">\n",
       "  <thead>\n",
       "    <tr style=\"text-align: right;\">\n",
       "      <th></th>\n",
       "      <th>column</th>\n",
       "      <th>value</th>\n",
       "      <th>count</th>\n",
       "      <th>percent</th>\n",
       "    </tr>\n",
       "  </thead>\n",
       "  <tbody>\n",
       "    <tr>\n",
       "      <th>0</th>\n",
       "      <td>DIED</td>\n",
       "      <td>N</td>\n",
       "      <td>928180</td>\n",
       "      <td>98.06</td>\n",
       "    </tr>\n",
       "    <tr>\n",
       "      <th>1</th>\n",
       "      <td>DIED</td>\n",
       "      <td>Y</td>\n",
       "      <td>18347</td>\n",
       "      <td>1.94</td>\n",
       "    </tr>\n",
       "  </tbody>\n",
       "</table>\n",
       "</div>"
      ],
      "text/plain": [
       "  column value   count  percent\n",
       "0   DIED     N  928180    98.06\n",
       "1   DIED     Y   18347     1.94"
      ]
     },
     "metadata": {},
     "output_type": "display_data"
    },
    {
     "name": "stdout",
     "output_type": "stream",
     "text": [
      "\n",
      "-------------------------\n",
      "\n"
     ]
    },
    {
     "data": {
      "text/plain": [
       "[Text(0.5, 1.0, 'Died vs not-Died')]"
      ]
     },
     "execution_count": 43,
     "metadata": {},
     "output_type": "execute_result"
    },
    {
     "data": {
      "image/png": "[encoded data removed]",
      "text/plain": [
       "<Figure size 640x480 with 1 Axes>"
      ]
     },
     "metadata": {},
     "output_type": "display_data"
    }
   ],
   "source": [
    "\n",
    "temp = break_down_columns(df,'DIED')\n",
    "print('\\n' + '-'*25 + '\\n')\n",
    "\n",
    "\n",
    "# fig = px.pie(\n",
    "#     temp, \n",
    "#     values='count', \n",
    "#     names='value', \n",
    "#     title='Death as Symptoms from Vaccine',\n",
    "#     # hover_data = temp.columns\n",
    "#     )\n",
    "# fig.show()\n",
    "\n",
    "sns.barplot(\n",
    "    data=temp,\n",
    "    x=\"count\", \n",
    "    y=\"value\",\n",
    "    # hue=\"PERCENT\"\n",
    "    palette = \"Spectral\"\n",
    "    ).set(title='Died vs not-Died')\n"
   ]
  },
  {
   "cell_type": "markdown",
   "metadata": {},
   "source": [
    "### ER_VISIT column"
   ]
  },
  {
   "cell_type": "code",
   "execution_count": 44,
   "metadata": {},
   "outputs": [
    {
     "name": "stdout",
     "output_type": "stream",
     "text": [
      "did the adverse reaction result in an ER Visit\n",
      "\n",
      "break down of ER_VISIT\n"
     ]
    },
    {
     "data": {
      "text/html": [
       "<div>\n",
       "<style scoped>\n",
       "    .dataframe tbody tr th:only-of-type {\n",
       "        vertical-align: middle;\n",
       "    }\n",
       "\n",
       "    .dataframe tbody tr th {\n",
       "        vertical-align: top;\n",
       "    }\n",
       "\n",
       "    .dataframe thead th {\n",
       "        text-align: right;\n",
       "    }\n",
       "</style>\n",
       "<table border=\"1\" class=\"dataframe\">\n",
       "  <thead>\n",
       "    <tr style=\"text-align: right;\">\n",
       "      <th></th>\n",
       "      <th>column</th>\n",
       "      <th>value</th>\n",
       "      <th>count</th>\n",
       "      <th>percent</th>\n",
       "    </tr>\n",
       "  </thead>\n",
       "  <tbody>\n",
       "    <tr>\n",
       "      <th>0</th>\n",
       "      <td>ER_VISIT</td>\n",
       "      <td>N</td>\n",
       "      <td>946399</td>\n",
       "      <td>99.99</td>\n",
       "    </tr>\n",
       "    <tr>\n",
       "      <th>1</th>\n",
       "      <td>ER_VISIT</td>\n",
       "      <td>Y</td>\n",
       "      <td>128</td>\n",
       "      <td>0.01</td>\n",
       "    </tr>\n",
       "  </tbody>\n",
       "</table>\n",
       "</div>"
      ],
      "text/plain": [
       "     column value   count  percent\n",
       "0  ER_VISIT     N  946399    99.99\n",
       "1  ER_VISIT     Y     128     0.01"
      ]
     },
     "metadata": {},
     "output_type": "display_data"
    },
    {
     "name": "stdout",
     "output_type": "stream",
     "text": [
      "\n",
      "-------------------------\n",
      "\n"
     ]
    },
    {
     "data": {
      "text/plain": [
       "[Text(0.5, 1.0, 'Did the they need the ER?')]"
      ]
     },
     "execution_count": 44,
     "metadata": {},
     "output_type": "execute_result"
    },
    {
     "data": {
      "image/png": "[encoded data removed]",
      "text/plain": [
       "<Figure size 640x480 with 1 Axes>"
      ]
     },
     "metadata": {},
     "output_type": "display_data"
    }
   ],
   "source": [
    "\n",
    "print('did the adverse reaction result in an ER Visit')\n",
    "temp = break_down_columns(df,'ER_VISIT')\n",
    "print('\\n' + '-'*25 + '\\n')\n",
    "\n",
    "# temp.plot.bar(title='ER_VISIT',x='value',y='count',rot=0,figsize=(5,5),width=0.25,fontsize=18)\n",
    "# temp = temp.set_index('value')\n",
    "# temp.plot.pie(title='ER_VISIT',y='percent',figsize=(5, 5),autopct='%.2f',fontsize=18)\n",
    "\n",
    "# fig = px.bar(\n",
    "#     temp, \n",
    "#      x='count', \n",
    "#      y='value',\n",
    "#     title='Did the they need the ER?',\n",
    "#     )\n",
    "# fig.show()\n",
    "\n",
    "sns.barplot(\n",
    "    data=temp,\n",
    "    x=\"count\", \n",
    "    y=\"value\",\n",
    "    # hue=\"PERCENT\"\n",
    "    palette = \"Spectral\"\n",
    "    ).set(title='Did the they need the ER?')"
   ]
  },
  {
   "cell_type": "markdown",
   "metadata": {},
   "source": [
    "### L_THREAT column"
   ]
  },
  {
   "cell_type": "code",
   "execution_count": 45,
   "metadata": {},
   "outputs": [
    {
     "name": "stdout",
     "output_type": "stream",
     "text": [
      "Life Threatening/Leathal Threat\n",
      "\n",
      "break down of L_THREAT\n"
     ]
    },
    {
     "data": {
      "text/html": [
       "<div>\n",
       "<style scoped>\n",
       "    .dataframe tbody tr th:only-of-type {\n",
       "        vertical-align: middle;\n",
       "    }\n",
       "\n",
       "    .dataframe tbody tr th {\n",
       "        vertical-align: top;\n",
       "    }\n",
       "\n",
       "    .dataframe thead th {\n",
       "        text-align: right;\n",
       "    }\n",
       "</style>\n",
       "<table border=\"1\" class=\"dataframe\">\n",
       "  <thead>\n",
       "    <tr style=\"text-align: right;\">\n",
       "      <th></th>\n",
       "      <th>column</th>\n",
       "      <th>value</th>\n",
       "      <th>count</th>\n",
       "      <th>percent</th>\n",
       "    </tr>\n",
       "  </thead>\n",
       "  <tbody>\n",
       "    <tr>\n",
       "      <th>0</th>\n",
       "      <td>L_THREAT</td>\n",
       "      <td>N</td>\n",
       "      <td>931317</td>\n",
       "      <td>98.39</td>\n",
       "    </tr>\n",
       "    <tr>\n",
       "      <th>1</th>\n",
       "      <td>L_THREAT</td>\n",
       "      <td>Y</td>\n",
       "      <td>15210</td>\n",
       "      <td>1.61</td>\n",
       "    </tr>\n",
       "  </tbody>\n",
       "</table>\n",
       "</div>"
      ],
      "text/plain": [
       "     column value   count  percent\n",
       "0  L_THREAT     N  931317    98.39\n",
       "1  L_THREAT     Y   15210     1.61"
      ]
     },
     "metadata": {},
     "output_type": "display_data"
    },
    {
     "name": "stdout",
     "output_type": "stream",
     "text": [
      "\n",
      "-------------------------\n",
      "\n"
     ]
    },
    {
     "data": {
      "text/plain": [
       "[Text(0.5, 1.0, 'was this a lethal threat?')]"
      ]
     },
     "execution_count": 45,
     "metadata": {},
     "output_type": "execute_result"
    },
    {
     "data": {
      "image/png": "[encoded data removed]",
      "text/plain": [
       "<Figure size 640x480 with 1 Axes>"
      ]
     },
     "metadata": {},
     "output_type": "display_data"
    }
   ],
   "source": [
    "\n",
    "print('Life Threatening/Leathal Threat')\n",
    "temp = break_down_columns(df,'L_THREAT')\n",
    "print('\\n' + '-'*25 + '\\n')\n",
    "\n",
    "# temp.plot.bar(title='L_THREAT',x='value',y='count',rot=0,figsize=(5,5),width=0.25,fontsize=18)\n",
    "# temp = temp.set_index('value')\n",
    "# temp.plot.pie(title='L_THREAT',y='percent',figsize=(5, 5),autopct='%.2f',fontsize=18)\n",
    "\n",
    "# fig = px.bar(\n",
    "#     temp, \n",
    "#     x='count', \n",
    "#     y='value',\n",
    "#     title=\"was this a lethal threat?\"\n",
    "#     )\n",
    "# fig.show()\n",
    "\n",
    "sns.barplot(\n",
    "    data=temp,\n",
    "    x=\"count\", \n",
    "    y=\"value\",\n",
    "    # hue=\"PERCENT\"\n",
    "    palette = \"Spectral\"\n",
    "    ).set(title='was this a lethal threat?')"
   ]
  },
  {
   "cell_type": "markdown",
   "metadata": {},
   "source": [
    "### RECOVD column"
   ]
  },
  {
   "cell_type": "code",
   "execution_count": 17,
   "metadata": {},
   "outputs": [
    {
     "name": "stdout",
     "output_type": "stream",
     "text": [
      "did the patient recover?\n",
      "\n",
      "break down of RECOVD\n"
     ]
    },
    {
     "data": {
      "text/html": [
       "<div>\n",
       "<style scoped>\n",
       "    .dataframe tbody tr th:only-of-type {\n",
       "        vertical-align: middle;\n",
       "    }\n",
       "\n",
       "    .dataframe tbody tr th {\n",
       "        vertical-align: top;\n",
       "    }\n",
       "\n",
       "    .dataframe thead th {\n",
       "        text-align: right;\n",
       "    }\n",
       "</style>\n",
       "<table border=\"1\" class=\"dataframe\">\n",
       "  <thead>\n",
       "    <tr style=\"text-align: right;\">\n",
       "      <th></th>\n",
       "      <th>column</th>\n",
       "      <th>value</th>\n",
       "      <th>count</th>\n",
       "      <th>percent</th>\n",
       "    </tr>\n",
       "  </thead>\n",
       "  <tbody>\n",
       "    <tr>\n",
       "      <th>0</th>\n",
       "      <td>RECOVD</td>\n",
       "      <td>Y</td>\n",
       "      <td>71201</td>\n",
       "      <td>30.09</td>\n",
       "    </tr>\n",
       "    <tr>\n",
       "      <th>1</th>\n",
       "      <td>RECOVD</td>\n",
       "      <td>U</td>\n",
       "      <td>56518</td>\n",
       "      <td>23.88</td>\n",
       "    </tr>\n",
       "    <tr>\n",
       "      <th>2</th>\n",
       "      <td>RECOVD</td>\n",
       "      <td>N</td>\n",
       "      <td>79462</td>\n",
       "      <td>33.58</td>\n",
       "    </tr>\n",
       "    <tr>\n",
       "      <th>3</th>\n",
       "      <td>RECOVD</td>\n",
       "      <td>nan</td>\n",
       "      <td>29450</td>\n",
       "      <td>12.45</td>\n",
       "    </tr>\n",
       "  </tbody>\n",
       "</table>\n",
       "</div>"
      ],
      "text/plain": [
       "   column value  count  percent\n",
       "0  RECOVD     Y  71201    30.09\n",
       "1  RECOVD     U  56518    23.88\n",
       "2  RECOVD     N  79462    33.58\n",
       "3  RECOVD   nan  29450    12.45"
      ]
     },
     "metadata": {},
     "output_type": "display_data"
    },
    {
     "name": "stdout",
     "output_type": "stream",
     "text": [
      "\n",
      "-------------------------\n",
      "\n"
     ]
    },
    {
     "data": {
      "application/vnd.plotly.v1+json": {
       "config": {
        "plotlyServerURL": "https://plot.ly"
       },
       "data": [
        {
         "alignmentgroup": "True",
         "hovertemplate": "count=%{x}<br>value=%{y}<extra></extra>",
         "legendgroup": "",
         "marker": {
          "color": "#636efa",
          "pattern": {
           "shape": ""
          }
         },
         "name": "",
         "offsetgroup": "",
         "orientation": "h",
         "showlegend": false,
         "textposition": "auto",
         "type": "bar",
         "x": [
          71201,
          56518,
          79462,
          29450
         ],
         "xaxis": "x",
         "y": [
          "Y",
          "U",
          "N",
          "nan"
         ],
         "yaxis": "y"
        }
       ],
       "layout": {
        "autosize": true,
        "barmode": "relative",
        "legend": {
         "tracegroupgap": 0
        },
        "template": {
         "data": {
          "bar": [
           {
            "error_x": {
             "color": "#2a3f5f"
            },
            "error_y": {
             "color": "#2a3f5f"
            },
            "marker": {
             "line": {
              "color": "#E5ECF6",
              "width": 0.5
             },
             "pattern": {
              "fillmode": "overlay",
              "size": 10,
              "solidity": 0.2
             }
            },
            "type": "bar"
           }
          ],
          "barpolar": [
           {
            "marker": {
             "line": {
              "color": "#E5ECF6",
              "width": 0.5
             },
             "pattern": {
              "fillmode": "overlay",
              "size": 10,
              "solidity": 0.2
             }
            },
            "type": "barpolar"
           }
          ],
          "carpet": [
           {
            "aaxis": {
             "endlinecolor": "#2a3f5f",
             "gridcolor": "white",
             "linecolor": "white",
             "minorgridcolor": "white",
             "startlinecolor": "#2a3f5f"
            },
            "baxis": {
             "endlinecolor": "#2a3f5f",
             "gridcolor": "white",
             "linecolor": "white",
             "minorgridcolor": "white",
             "startlinecolor": "#2a3f5f"
            },
            "type": "carpet"
           }
          ],
          "choropleth": [
           {
            "colorbar": {
             "outlinewidth": 0,
             "ticks": ""
            },
            "type": "choropleth"
           }
          ],
          "contour": [
           {
            "colorbar": {
             "outlinewidth": 0,
             "ticks": ""
            },
            "colorscale": [
             [
              0,
              "#0d0887"
             ],
             [
              0.1111111111111111,
              "#46039f"
             ],
             [
              0.2222222222222222,
              "#7201a8"
             ],
             [
              0.3333333333333333,
              "#9c179e"
             ],
             [
              0.4444444444444444,
              "#bd3786"
             ],
             [
              0.5555555555555556,
              "#d8576b"
             ],
             [
              0.6666666666666666,
              "#ed7953"
             ],
             [
              0.7777777777777778,
              "#fb9f3a"
             ],
             [
              0.8888888888888888,
              "#fdca26"
             ],
             [
              1,
              "#f0f921"
             ]
            ],
            "type": "contour"
           }
          ],
          "contourcarpet": [
           {
            "colorbar": {
             "outlinewidth": 0,
             "ticks": ""
            },
            "type": "contourcarpet"
           }
          ],
          "heatmap": [
           {
            "colorbar": {
             "outlinewidth": 0,
             "ticks": ""
            },
            "colorscale": [
             [
              0,
              "#0d0887"
             ],
             [
              0.1111111111111111,
              "#46039f"
             ],
             [
              0.2222222222222222,
              "#7201a8"
             ],
             [
              0.3333333333333333,
              "#9c179e"
             ],
             [
              0.4444444444444444,
              "#bd3786"
             ],
             [
              0.5555555555555556,
              "#d8576b"
             ],
             [
              0.6666666666666666,
              "#ed7953"
             ],
             [
              0.7777777777777778,
              "#fb9f3a"
             ],
             [
              0.8888888888888888,
              "#fdca26"
             ],
             [
              1,
              "#f0f921"
             ]
            ],
            "type": "heatmap"
           }
          ],
          "heatmapgl": [
           {
            "colorbar": {
             "outlinewidth": 0,
             "ticks": ""
            },
            "colorscale": [
             [
              0,
              "#0d0887"
             ],
             [
              0.1111111111111111,
              "#46039f"
             ],
             [
              0.2222222222222222,
              "#7201a8"
             ],
             [
              0.3333333333333333,
              "#9c179e"
             ],
             [
              0.4444444444444444,
              "#bd3786"
             ],
             [
              0.5555555555555556,
              "#d8576b"
             ],
             [
              0.6666666666666666,
              "#ed7953"
             ],
             [
              0.7777777777777778,
              "#fb9f3a"
             ],
             [
              0.8888888888888888,
              "#fdca26"
             ],
             [
              1,
              "#f0f921"
             ]
            ],
            "type": "heatmapgl"
           }
          ],
          "histogram": [
           {
            "marker": {
             "pattern": {
              "fillmode": "overlay",
              "size": 10,
              "solidity": 0.2
             }
            },
            "type": "histogram"
           }
          ],
          "histogram2d": [
           {
            "colorbar": {
             "outlinewidth": 0,
             "ticks": ""
            },
            "colorscale": [
             [
              0,
              "#0d0887"
             ],
             [
              0.1111111111111111,
              "#46039f"
             ],
             [
              0.2222222222222222,
              "#7201a8"
             ],
             [
              0.3333333333333333,
              "#9c179e"
             ],
             [
              0.4444444444444444,
              "#bd3786"
             ],
             [
              0.5555555555555556,
              "#d8576b"
             ],
             [
              0.6666666666666666,
              "#ed7953"
             ],
             [
              0.7777777777777778,
              "#fb9f3a"
             ],
             [
              0.8888888888888888,
              "#fdca26"
             ],
             [
              1,
              "#f0f921"
             ]
            ],
            "type": "histogram2d"
           }
          ],
          "histogram2dcontour": [
           {
            "colorbar": {
             "outlinewidth": 0,
             "ticks": ""
            },
            "colorscale": [
             [
              0,
              "#0d0887"
             ],
             [
              0.1111111111111111,
              "#46039f"
             ],
             [
              0.2222222222222222,
              "#7201a8"
             ],
             [
              0.3333333333333333,
              "#9c179e"
             ],
             [
              0.4444444444444444,
              "#bd3786"
             ],
             [
              0.5555555555555556,
              "#d8576b"
             ],
             [
              0.6666666666666666,
              "#ed7953"
             ],
             [
              0.7777777777777778,
              "#fb9f3a"
             ],
             [
              0.8888888888888888,
              "#fdca26"
             ],
             [
              1,
              "#f0f921"
             ]
            ],
            "type": "histogram2dcontour"
           }
          ],
          "mesh3d": [
           {
            "colorbar": {
             "outlinewidth": 0,
             "ticks": ""
            },
            "type": "mesh3d"
           }
          ],
          "parcoords": [
           {
            "line": {
             "colorbar": {
              "outlinewidth": 0,
              "ticks": ""
             }
            },
            "type": "parcoords"
           }
          ],
          "pie": [
           {
            "automargin": true,
            "type": "pie"
           }
          ],
          "scatter": [
           {
            "fillpattern": {
             "fillmode": "overlay",
             "size": 10,
             "solidity": 0.2
            },
            "type": "scatter"
           }
          ],
          "scatter3d": [
           {
            "line": {
             "colorbar": {
              "outlinewidth": 0,
              "ticks": ""
             }
            },
            "marker": {
             "colorbar": {
              "outlinewidth": 0,
              "ticks": ""
             }
            },
            "type": "scatter3d"
           }
          ],
          "scattercarpet": [
           {
            "marker": {
             "colorbar": {
              "outlinewidth": 0,
              "ticks": ""
             }
            },
            "type": "scattercarpet"
           }
          ],
          "scattergeo": [
           {
            "marker": {
             "colorbar": {
              "outlinewidth": 0,
              "ticks": ""
             }
            },
            "type": "scattergeo"
           }
          ],
          "scattergl": [
           {
            "marker": {
             "colorbar": {
              "outlinewidth": 0,
              "ticks": ""
             }
            },
            "type": "scattergl"
           }
          ],
          "scattermapbox": [
           {
            "marker": {
             "colorbar": {
              "outlinewidth": 0,
              "ticks": ""
             }
            },
            "type": "scattermapbox"
           }
          ],
          "scatterpolar": [
           {
            "marker": {
             "colorbar": {
              "outlinewidth": 0,
              "ticks": ""
             }
            },
            "type": "scatterpolar"
           }
          ],
          "scatterpolargl": [
           {
            "marker": {
             "colorbar": {
              "outlinewidth": 0,
              "ticks": ""
             }
            },
            "type": "scatterpolargl"
           }
          ],
          "scatterternary": [
           {
            "marker": {
             "colorbar": {
              "outlinewidth": 0,
              "ticks": ""
             }
            },
            "type": "scatterternary"
           }
          ],
          "surface": [
           {
            "colorbar": {
             "outlinewidth": 0,
             "ticks": ""
            },
            "colorscale": [
             [
              0,
              "#0d0887"
             ],
             [
              0.1111111111111111,
              "#46039f"
             ],
             [
              0.2222222222222222,
              "#7201a8"
             ],
             [
              0.3333333333333333,
              "#9c179e"
             ],
             [
              0.4444444444444444,
              "#bd3786"
             ],
             [
              0.5555555555555556,
              "#d8576b"
             ],
             [
              0.6666666666666666,
              "#ed7953"
             ],
             [
              0.7777777777777778,
              "#fb9f3a"
             ],
             [
              0.8888888888888888,
              "#fdca26"
             ],
             [
              1,
              "#f0f921"
             ]
            ],
            "type": "surface"
           }
          ],
          "table": [
           {
            "cells": {
             "fill": {
              "color": "#EBF0F8"
             },
             "line": {
              "color": "white"
             }
            },
            "header": {
             "fill": {
              "color": "#C8D4E3"
             },
             "line": {
              "color": "white"
             }
            },
            "type": "table"
           }
          ]
         },
         "layout": {
          "annotationdefaults": {
           "arrowcolor": "#2a3f5f",
           "arrowhead": 0,
           "arrowwidth": 1
          },
          "autotypenumbers": "strict",
          "coloraxis": {
           "colorbar": {
            "outlinewidth": 0,
            "ticks": ""
           }
          },
          "colorscale": {
           "diverging": [
            [
             0,
             "#8e0152"
            ],
            [
             0.1,
             "#c51b7d"
            ],
            [
             0.2,
             "#de77ae"
            ],
            [
             0.3,
             "#f1b6da"
            ],
            [
             0.4,
             "#fde0ef"
            ],
            [
             0.5,
             "#f7f7f7"
            ],
            [
             0.6,
             "#e6f5d0"
            ],
            [
             0.7,
             "#b8e186"
            ],
            [
             0.8,
             "#7fbc41"
            ],
            [
             0.9,
             "#4d9221"
            ],
            [
             1,
             "#276419"
            ]
           ],
           "sequential": [
            [
             0,
             "#0d0887"
            ],
            [
             0.1111111111111111,
             "#46039f"
            ],
            [
             0.2222222222222222,
             "#7201a8"
            ],
            [
             0.3333333333333333,
             "#9c179e"
            ],
            [
             0.4444444444444444,
             "#bd3786"
            ],
            [
             0.5555555555555556,
             "#d8576b"
            ],
            [
             0.6666666666666666,
             "#ed7953"
            ],
            [
             0.7777777777777778,
             "#fb9f3a"
            ],
            [
             0.8888888888888888,
             "#fdca26"
            ],
            [
             1,
             "#f0f921"
            ]
           ],
           "sequentialminus": [
            [
             0,
             "#0d0887"
            ],
            [
             0.1111111111111111,
             "#46039f"
            ],
            [
             0.2222222222222222,
             "#7201a8"
            ],
            [
             0.3333333333333333,
             "#9c179e"
            ],
            [
             0.4444444444444444,
             "#bd3786"
            ],
            [
             0.5555555555555556,
             "#d8576b"
            ],
            [
             0.6666666666666666,
             "#ed7953"
            ],
            [
             0.7777777777777778,
             "#fb9f3a"
            ],
            [
             0.8888888888888888,
             "#fdca26"
            ],
            [
             1,
             "#f0f921"
            ]
           ]
          },
          "colorway": [
           "#636efa",
           "#EF553B",
           "#00cc96",
           "#ab63fa",
           "#FFA15A",
           "#19d3f3",
           "#FF6692",
           "#B6E880",
           "#FF97FF",
           "#FECB52"
          ],
          "font": {
           "color": "#2a3f5f"
          },
          "geo": {
           "bgcolor": "white",
           "lakecolor": "white",
           "landcolor": "#E5ECF6",
           "showlakes": true,
           "showland": true,
           "subunitcolor": "white"
          },
          "hoverlabel": {
           "align": "left"
          },
          "hovermode": "closest",
          "mapbox": {
           "style": "light"
          },
          "paper_bgcolor": "white",
          "plot_bgcolor": "#E5ECF6",
          "polar": {
           "angularaxis": {
            "gridcolor": "white",
            "linecolor": "white",
            "ticks": ""
           },
           "bgcolor": "#E5ECF6",
           "radialaxis": {
            "gridcolor": "white",
            "linecolor": "white",
            "ticks": ""
           }
          },
          "scene": {
           "xaxis": {
            "backgroundcolor": "#E5ECF6",
            "gridcolor": "white",
            "gridwidth": 2,
            "linecolor": "white",
            "showbackground": true,
            "ticks": "",
            "zerolinecolor": "white"
           },
           "yaxis": {
            "backgroundcolor": "#E5ECF6",
            "gridcolor": "white",
            "gridwidth": 2,
            "linecolor": "white",
            "showbackground": true,
            "ticks": "",
            "zerolinecolor": "white"
           },
           "zaxis": {
            "backgroundcolor": "#E5ECF6",
            "gridcolor": "white",
            "gridwidth": 2,
            "linecolor": "white",
            "showbackground": true,
            "ticks": "",
            "zerolinecolor": "white"
           }
          },
          "shapedefaults": {
           "line": {
            "color": "#2a3f5f"
           }
          },
          "ternary": {
           "aaxis": {
            "gridcolor": "white",
            "linecolor": "white",
            "ticks": ""
           },
           "baxis": {
            "gridcolor": "white",
            "linecolor": "white",
            "ticks": ""
           },
           "bgcolor": "#E5ECF6",
           "caxis": {
            "gridcolor": "white",
            "linecolor": "white",
            "ticks": ""
           }
          },
          "title": {
           "x": 0.05
          },
          "xaxis": {
           "automargin": true,
           "gridcolor": "white",
           "linecolor": "white",
           "ticks": "",
           "title": {
            "standoff": 15
           },
           "zerolinecolor": "white",
           "zerolinewidth": 2
          },
          "yaxis": {
           "automargin": true,
           "gridcolor": "white",
           "linecolor": "white",
           "ticks": "",
           "title": {
            "standoff": 15
           },
           "zerolinecolor": "white",
           "zerolinewidth": 2
          }
         }
        },
        "title": {
         "text": "Did the patient recover? (Y=yes, N=no, U=unknown, nan=N/A )"
        },
        "xaxis": {
         "anchor": "y",
         "autorange": true,
         "domain": [
          0,
          1
         ],
         "range": [
          0,
          83644.21052631579
         ],
         "title": {
          "text": "count"
         },
         "type": "linear"
        },
        "yaxis": {
         "anchor": "x",
         "autorange": true,
         "domain": [
          0,
          1
         ],
         "range": [
          -0.5,
          3.5
         ],
         "title": {
          "text": "value"
         },
         "type": "category"
        }
       }
      },
      "image/png": "[encoded data removed]",
      "text/html": [
       "<div>                            <div id=\"bf8d59bd-7c05-4cf6-81e1-632b1083c320\" class=\"plotly-graph-div\" style=\"height:525px; width:100%;\"></div>            <script type=\"text/javascript\">                require([\"plotly\"], function(Plotly) {                    window.PLOTLYENV=window.PLOTLYENV || {};                                    if (document.getElementById(\"bf8d59bd-7c05-4cf6-81e1-632b1083c320\")) {                    Plotly.newPlot(                        \"bf8d59bd-7c05-4cf6-81e1-632b1083c320\",                        [{\"alignmentgroup\":\"True\",\"hovertemplate\":\"count=%{x}<br>value=%{y}<extra></extra>\",\"legendgroup\":\"\",\"marker\":{\"color\":\"#636efa\",\"pattern\":{\"shape\":\"\"}},\"name\":\"\",\"offsetgroup\":\"\",\"orientation\":\"h\",\"showlegend\":false,\"textposition\":\"auto\",\"x\":[71201,56518,79462,29450],\"xaxis\":\"x\",\"y\":[\"Y\",\"U\",\"N\",\"nan\"],\"yaxis\":\"y\",\"type\":\"bar\"}],                        {\"template\":{\"data\":{\"histogram2dcontour\":[{\"type\":\"histogram2dcontour\",\"colorbar\":{\"outlinewidth\":0,\"ticks\":\"\"},\"colorscale\":[[0.0,\"#0d0887\"],[0.1111111111111111,\"#46039f\"],[0.2222222222222222,\"#7201a8\"],[0.3333333333333333,\"#9c179e\"],[0.4444444444444444,\"#bd3786\"],[0.5555555555555556,\"#d8576b\"],[0.6666666666666666,\"#ed7953\"],[0.7777777777777778,\"#fb9f3a\"],[0.8888888888888888,\"#fdca26\"],[1.0,\"#f0f921\"]]}],\"choropleth\":[{\"type\":\"choropleth\",\"colorbar\":{\"outlinewidth\":0,\"ticks\":\"\"}}],\"histogram2d\":[{\"type\":\"histogram2d\",\"colorbar\":{\"outlinewidth\":0,\"ticks\":\"\"},\"colorscale\":[[0.0,\"#0d0887\"],[0.1111111111111111,\"#46039f\"],[0.2222222222222222,\"#7201a8\"],[0.3333333333333333,\"#9c179e\"],[0.4444444444444444,\"#bd3786\"],[0.5555555555555556,\"#d8576b\"],[0.6666666666666666,\"#ed7953\"],[0.7777777777777778,\"#fb9f3a\"],[0.8888888888888888,\"#fdca26\"],[1.0,\"#f0f921\"]]}],\"heatmap\":[{\"type\":\"heatmap\",\"colorbar\":{\"outlinewidth\":0,\"ticks\":\"\"},\"colorscale\":[[0.0,\"#0d0887\"],[0.1111111111111111,\"#46039f\"],[0.2222222222222222,\"#7201a8\"],[0.3333333333333333,\"#9c179e\"],[0.4444444444444444,\"#bd3786\"],[0.5555555555555556,\"#d8576b\"],[0.6666666666666666,\"#ed7953\"],[0.7777777777777778,\"#fb9f3a\"],[0.8888888888888888,\"#fdca26\"],[1.0,\"#f0f921\"]]}],\"heatmapgl\":[{\"type\":\"heatmapgl\",\"colorbar\":{\"outlinewidth\":0,\"ticks\":\"\"},\"colorscale\":[[0.0,\"#0d0887\"],[0.1111111111111111,\"#46039f\"],[0.2222222222222222,\"#7201a8\"],[0.3333333333333333,\"#9c179e\"],[0.4444444444444444,\"#bd3786\"],[0.5555555555555556,\"#d8576b\"],[0.6666666666666666,\"#ed7953\"],[0.7777777777777778,\"#fb9f3a\"],[0.8888888888888888,\"#fdca26\"],[1.0,\"#f0f921\"]]}],\"contourcarpet\":[{\"type\":\"contourcarpet\",\"colorbar\":{\"outlinewidth\":0,\"ticks\":\"\"}}],\"contour\":[{\"type\":\"contour\",\"colorbar\":{\"outlinewidth\":0,\"ticks\":\"\"},\"colorscale\":[[0.0,\"#0d0887\"],[0.1111111111111111,\"#46039f\"],[0.2222222222222222,\"#7201a8\"],[0.3333333333333333,\"#9c179e\"],[0.4444444444444444,\"#bd3786\"],[0.5555555555555556,\"#d8576b\"],[0.6666666666666666,\"#ed7953\"],[0.7777777777777778,\"#fb9f3a\"],[0.8888888888888888,\"#fdca26\"],[1.0,\"#f0f921\"]]}],\"surface\":[{\"type\":\"surface\",\"colorbar\":{\"outlinewidth\":0,\"ticks\":\"\"},\"colorscale\":[[0.0,\"#0d0887\"],[0.1111111111111111,\"#46039f\"],[0.2222222222222222,\"#7201a8\"],[0.3333333333333333,\"#9c179e\"],[0.4444444444444444,\"#bd3786\"],[0.5555555555555556,\"#d8576b\"],[0.6666666666666666,\"#ed7953\"],[0.7777777777777778,\"#fb9f3a\"],[0.8888888888888888,\"#fdca26\"],[1.0,\"#f0f921\"]]}],\"mesh3d\":[{\"type\":\"mesh3d\",\"colorbar\":{\"outlinewidth\":0,\"ticks\":\"\"}}],\"scatter\":[{\"fillpattern\":{\"fillmode\":\"overlay\",\"size\":10,\"solidity\":0.2},\"type\":\"scatter\"}],\"parcoords\":[{\"type\":\"parcoords\",\"line\":{\"colorbar\":{\"outlinewidth\":0,\"ticks\":\"\"}}}],\"scatterpolargl\":[{\"type\":\"scatterpolargl\",\"marker\":{\"colorbar\":{\"outlinewidth\":0,\"ticks\":\"\"}}}],\"bar\":[{\"error_x\":{\"color\":\"#2a3f5f\"},\"error_y\":{\"color\":\"#2a3f5f\"},\"marker\":{\"line\":{\"color\":\"#E5ECF6\",\"width\":0.5},\"pattern\":{\"fillmode\":\"overlay\",\"size\":10,\"solidity\":0.2}},\"type\":\"bar\"}],\"scattergeo\":[{\"type\":\"scattergeo\",\"marker\":{\"colorbar\":{\"outlinewidth\":0,\"ticks\":\"\"}}}],\"scatterpolar\":[{\"type\":\"scatterpolar\",\"marker\":{\"colorbar\":{\"outlinewidth\":0,\"ticks\":\"\"}}}],\"histogram\":[{\"marker\":{\"pattern\":{\"fillmode\":\"overlay\",\"size\":10,\"solidity\":0.2}},\"type\":\"histogram\"}],\"scattergl\":[{\"type\":\"scattergl\",\"marker\":{\"colorbar\":{\"outlinewidth\":0,\"ticks\":\"\"}}}],\"scatter3d\":[{\"type\":\"scatter3d\",\"line\":{\"colorbar\":{\"outlinewidth\":0,\"ticks\":\"\"}},\"marker\":{\"colorbar\":{\"outlinewidth\":0,\"ticks\":\"\"}}}],\"scattermapbox\":[{\"type\":\"scattermapbox\",\"marker\":{\"colorbar\":{\"outlinewidth\":0,\"ticks\":\"\"}}}],\"scatterternary\":[{\"type\":\"scatterternary\",\"marker\":{\"colorbar\":{\"outlinewidth\":0,\"ticks\":\"\"}}}],\"scattercarpet\":[{\"type\":\"scattercarpet\",\"marker\":{\"colorbar\":{\"outlinewidth\":0,\"ticks\":\"\"}}}],\"carpet\":[{\"aaxis\":{\"endlinecolor\":\"#2a3f5f\",\"gridcolor\":\"white\",\"linecolor\":\"white\",\"minorgridcolor\":\"white\",\"startlinecolor\":\"#2a3f5f\"},\"baxis\":{\"endlinecolor\":\"#2a3f5f\",\"gridcolor\":\"white\",\"linecolor\":\"white\",\"minorgridcolor\":\"white\",\"startlinecolor\":\"#2a3f5f\"},\"type\":\"carpet\"}],\"table\":[{\"cells\":{\"fill\":{\"color\":\"#EBF0F8\"},\"line\":{\"color\":\"white\"}},\"header\":{\"fill\":{\"color\":\"#C8D4E3\"},\"line\":{\"color\":\"white\"}},\"type\":\"table\"}],\"barpolar\":[{\"marker\":{\"line\":{\"color\":\"#E5ECF6\",\"width\":0.5},\"pattern\":{\"fillmode\":\"overlay\",\"size\":10,\"solidity\":0.2}},\"type\":\"barpolar\"}],\"pie\":[{\"automargin\":true,\"type\":\"pie\"}]},\"layout\":{\"autotypenumbers\":\"strict\",\"colorway\":[\"#636efa\",\"#EF553B\",\"#00cc96\",\"#ab63fa\",\"#FFA15A\",\"#19d3f3\",\"#FF6692\",\"#B6E880\",\"#FF97FF\",\"#FECB52\"],\"font\":{\"color\":\"#2a3f5f\"},\"hovermode\":\"closest\",\"hoverlabel\":{\"align\":\"left\"},\"paper_bgcolor\":\"white\",\"plot_bgcolor\":\"#E5ECF6\",\"polar\":{\"bgcolor\":\"#E5ECF6\",\"angularaxis\":{\"gridcolor\":\"white\",\"linecolor\":\"white\",\"ticks\":\"\"},\"radialaxis\":{\"gridcolor\":\"white\",\"linecolor\":\"white\",\"ticks\":\"\"}},\"ternary\":{\"bgcolor\":\"#E5ECF6\",\"aaxis\":{\"gridcolor\":\"white\",\"linecolor\":\"white\",\"ticks\":\"\"},\"baxis\":{\"gridcolor\":\"white\",\"linecolor\":\"white\",\"ticks\":\"\"},\"caxis\":{\"gridcolor\":\"white\",\"linecolor\":\"white\",\"ticks\":\"\"}},\"coloraxis\":{\"colorbar\":{\"outlinewidth\":0,\"ticks\":\"\"}},\"colorscale\":{\"sequential\":[[0.0,\"#0d0887\"],[0.1111111111111111,\"#46039f\"],[0.2222222222222222,\"#7201a8\"],[0.3333333333333333,\"#9c179e\"],[0.4444444444444444,\"#bd3786\"],[0.5555555555555556,\"#d8576b\"],[0.6666666666666666,\"#ed7953\"],[0.7777777777777778,\"#fb9f3a\"],[0.8888888888888888,\"#fdca26\"],[1.0,\"#f0f921\"]],\"sequentialminus\":[[0.0,\"#0d0887\"],[0.1111111111111111,\"#46039f\"],[0.2222222222222222,\"#7201a8\"],[0.3333333333333333,\"#9c179e\"],[0.4444444444444444,\"#bd3786\"],[0.5555555555555556,\"#d8576b\"],[0.6666666666666666,\"#ed7953\"],[0.7777777777777778,\"#fb9f3a\"],[0.8888888888888888,\"#fdca26\"],[1.0,\"#f0f921\"]],\"diverging\":[[0,\"#8e0152\"],[0.1,\"#c51b7d\"],[0.2,\"#de77ae\"],[0.3,\"#f1b6da\"],[0.4,\"#fde0ef\"],[0.5,\"#f7f7f7\"],[0.6,\"#e6f5d0\"],[0.7,\"#b8e186\"],[0.8,\"#7fbc41\"],[0.9,\"#4d9221\"],[1,\"#276419\"]]},\"xaxis\":{\"gridcolor\":\"white\",\"linecolor\":\"white\",\"ticks\":\"\",\"title\":{\"standoff\":15},\"zerolinecolor\":\"white\",\"automargin\":true,\"zerolinewidth\":2},\"yaxis\":{\"gridcolor\":\"white\",\"linecolor\":\"white\",\"ticks\":\"\",\"title\":{\"standoff\":15},\"zerolinecolor\":\"white\",\"automargin\":true,\"zerolinewidth\":2},\"scene\":{\"xaxis\":{\"backgroundcolor\":\"#E5ECF6\",\"gridcolor\":\"white\",\"linecolor\":\"white\",\"showbackground\":true,\"ticks\":\"\",\"zerolinecolor\":\"white\",\"gridwidth\":2},\"yaxis\":{\"backgroundcolor\":\"#E5ECF6\",\"gridcolor\":\"white\",\"linecolor\":\"white\",\"showbackground\":true,\"ticks\":\"\",\"zerolinecolor\":\"white\",\"gridwidth\":2},\"zaxis\":{\"backgroundcolor\":\"#E5ECF6\",\"gridcolor\":\"white\",\"linecolor\":\"white\",\"showbackground\":true,\"ticks\":\"\",\"zerolinecolor\":\"white\",\"gridwidth\":2}},\"shapedefaults\":{\"line\":{\"color\":\"#2a3f5f\"}},\"annotationdefaults\":{\"arrowcolor\":\"#2a3f5f\",\"arrowhead\":0,\"arrowwidth\":1},\"geo\":{\"bgcolor\":\"white\",\"landcolor\":\"#E5ECF6\",\"subunitcolor\":\"white\",\"showland\":true,\"showlakes\":true,\"lakecolor\":\"white\"},\"title\":{\"x\":0.05},\"mapbox\":{\"style\":\"light\"}}},\"xaxis\":{\"anchor\":\"y\",\"domain\":[0.0,1.0],\"title\":{\"text\":\"count\"}},\"yaxis\":{\"anchor\":\"x\",\"domain\":[0.0,1.0],\"title\":{\"text\":\"value\"}},\"legend\":{\"tracegroupgap\":0},\"title\":{\"text\":\"Did the patient recover? (Y=yes, N=no, U=unknown, nan=N/A )\"},\"barmode\":\"relative\"},                        {\"responsive\": true}                    ).then(function(){\n",
       "                            \n",
       "var gd = document.getElementById('bf8d59bd-7c05-4cf6-81e1-632b1083c320');\n",
       "var x = new MutationObserver(function (mutations, observer) {{\n",
       "        var display = window.getComputedStyle(gd).display;\n",
       "        if (!display || display === 'none') {{\n",
       "            console.log([gd, 'removed!']);\n",
       "            Plotly.purge(gd);\n",
       "            observer.disconnect();\n",
       "        }}\n",
       "}});\n",
       "\n",
       "// Listen for the removal of the full notebook cells\n",
       "var notebookContainer = gd.closest('#notebook-container');\n",
       "if (notebookContainer) {{\n",
       "    x.observe(notebookContainer, {childList: true});\n",
       "}}\n",
       "\n",
       "// Listen for the clearing of the current output cell\n",
       "var outputEl = gd.closest('.output');\n",
       "if (outputEl) {{\n",
       "    x.observe(outputEl, {childList: true});\n",
       "}}\n",
       "\n",
       "                        })                };                });            </script>        </div>"
      ]
     },
     "metadata": {},
     "output_type": "display_data"
    }
   ],
   "source": [
    "\n",
    "print('did the patient recover?')\n",
    "temp = break_down_columns(df,'RECOVD')\n",
    "\n",
    "print('\\n' + '-'*25 + '\\n')\n",
    "\n",
    "# temp.plot.bar(title='RECOVD',x='value',y='count',rot=0,figsize=(5,5),width=0.25,fontsize=18)\n",
    "# temp = temp.set_index('value')\n",
    "# temp.plot.pie(title='RECOVD',y='percent',figsize=(5, 5),autopct='%.2f',fontsize=18)\n",
    "\n",
    "fig = px.bar(\n",
    "    temp, \n",
    "    x='count', \n",
    "    y='value',\n",
    "    title=\"Did the patient recover? (Y=yes, N=no, U=unknown, nan=N/A )\"\n",
    "    )\n",
    "fig.show()\n"
   ]
  },
  {
   "cell_type": "markdown",
   "metadata": {},
   "source": [
    "### the Age of the patient"
   ]
  },
  {
   "cell_type": "code",
   "execution_count": 47,
   "metadata": {},
   "outputs": [
    {
     "name": "stdout",
     "output_type": "stream",
     "text": [
      "the Age of the patient\n",
      "  \n",
      "column:  AGE_YRS \n",
      "buckets:  [0, 15, 25, 35, 45, 55, 65, 75, 85, 500]\n"
     ]
    },
    {
     "data": {
      "text/html": [
       "<div>\n",
       "<style scoped>\n",
       "    .dataframe tbody tr th:only-of-type {\n",
       "        vertical-align: middle;\n",
       "    }\n",
       "\n",
       "    .dataframe tbody tr th {\n",
       "        vertical-align: top;\n",
       "    }\n",
       "\n",
       "    .dataframe thead th {\n",
       "        text-align: right;\n",
       "    }\n",
       "</style>\n",
       "<table border=\"1\" class=\"dataframe\">\n",
       "  <thead>\n",
       "    <tr style=\"text-align: right;\">\n",
       "      <th></th>\n",
       "      <th>AGE_YRS</th>\n",
       "      <th>percent</th>\n",
       "    </tr>\n",
       "    <tr>\n",
       "      <th>bucket</th>\n",
       "      <th></th>\n",
       "      <th></th>\n",
       "    </tr>\n",
       "  </thead>\n",
       "  <tbody>\n",
       "    <tr>\n",
       "      <th>(0, 15]</th>\n",
       "      <td>36851</td>\n",
       "      <td>4.32</td>\n",
       "    </tr>\n",
       "    <tr>\n",
       "      <th>(15, 25]</th>\n",
       "      <td>70859</td>\n",
       "      <td>8.30</td>\n",
       "    </tr>\n",
       "    <tr>\n",
       "      <th>(25, 35]</th>\n",
       "      <td>114041</td>\n",
       "      <td>13.36</td>\n",
       "    </tr>\n",
       "    <tr>\n",
       "      <th>(35, 45]</th>\n",
       "      <td>132833</td>\n",
       "      <td>15.56</td>\n",
       "    </tr>\n",
       "    <tr>\n",
       "      <th>(45, 55]</th>\n",
       "      <td>136185</td>\n",
       "      <td>15.95</td>\n",
       "    </tr>\n",
       "    <tr>\n",
       "      <th>(55, 65]</th>\n",
       "      <td>148283</td>\n",
       "      <td>17.37</td>\n",
       "    </tr>\n",
       "    <tr>\n",
       "      <th>(65, 75]</th>\n",
       "      <td>129763</td>\n",
       "      <td>15.20</td>\n",
       "    </tr>\n",
       "    <tr>\n",
       "      <th>(75, 85]</th>\n",
       "      <td>62625</td>\n",
       "      <td>7.34</td>\n",
       "    </tr>\n",
       "    <tr>\n",
       "      <th>(85, 500]</th>\n",
       "      <td>22119</td>\n",
       "      <td>2.59</td>\n",
       "    </tr>\n",
       "  </tbody>\n",
       "</table>\n",
       "</div>"
      ],
      "text/plain": [
       "           AGE_YRS  percent\n",
       "bucket                     \n",
       "(0, 15]      36851     4.32\n",
       "(15, 25]     70859     8.30\n",
       "(25, 35]    114041    13.36\n",
       "(35, 45]    132833    15.56\n",
       "(45, 55]    136185    15.95\n",
       "(55, 65]    148283    17.37\n",
       "(65, 75]    129763    15.20\n",
       "(75, 85]     62625     7.34\n",
       "(85, 500]    22119     2.59"
      ]
     },
     "metadata": {},
     "output_type": "display_data"
    },
    {
     "name": "stdout",
     "output_type": "stream",
     "text": [
      "\n",
      "-------------------------\n",
      "\n"
     ]
    },
    {
     "data": {
      "image/png": "[encoded data removed]",
      "text/plain": [
       "<Figure size 640x480 with 1 Axes>"
      ]
     },
     "metadata": {},
     "output_type": "display_data"
    }
   ],
   "source": [
    "\n",
    "\n",
    "print('the Age of the patient')\n",
    "temp = break_down_buckets(df,'AGE_YRS',[0,15,25,35,45,55,65,75,85,500])\n",
    "temp = temp.reset_index()\n",
    "temp[\"bucket\"] = temp[\"bucket\"].astype(str)\n",
    "\n",
    "# temp = temp.reset_index()\n",
    "# temp.plot.bar(title='AGE_YRS',x='bucket',y='AGE_YRS',rot=90,figsize=(5,5),width=0.25,fontsize=18)\n",
    "# # temp.plot.bar(title='AGE_YRS',x='bucket',y='percent',rot=90,figsize=(5,5),width=0.25,fontsize=18)\n",
    "\n",
    "# fig = px.bar(\n",
    "#     temp, \n",
    "#     x='percent', \n",
    "#     y='bucket',\n",
    "#     title=\"The Age of the Patient\"\n",
    "#     )\n",
    "# fig.show()\n",
    "\n",
    "sns.barplot(\n",
    "    data=temp,\n",
    "    x=\"percent\", \n",
    "    y=\"bucket\",\n",
    "    palette = \"Spectral\"\n",
    "    ).set(title='The Age of the Patient')\n",
    "\n",
    "print('\\n' + '-'*25 + '\\n')\n",
    "\n"
   ]
  },
  {
   "cell_type": "code",
   "execution_count": 48,
   "metadata": {},
   "outputs": [
    {
     "name": "stdout",
     "output_type": "stream",
     "text": [
      " ***deaths only*** \n",
      "column:  AGE_YRS \n",
      "buckets:  [0, 15, 25, 35, 45, 55, 65, 75, 85, 500]\n"
     ]
    },
    {
     "data": {
      "text/html": [
       "<div>\n",
       "<style scoped>\n",
       "    .dataframe tbody tr th:only-of-type {\n",
       "        vertical-align: middle;\n",
       "    }\n",
       "\n",
       "    .dataframe tbody tr th {\n",
       "        vertical-align: top;\n",
       "    }\n",
       "\n",
       "    .dataframe thead th {\n",
       "        text-align: right;\n",
       "    }\n",
       "</style>\n",
       "<table border=\"1\" class=\"dataframe\">\n",
       "  <thead>\n",
       "    <tr style=\"text-align: right;\">\n",
       "      <th></th>\n",
       "      <th>AGE_YRS</th>\n",
       "      <th>percent</th>\n",
       "    </tr>\n",
       "    <tr>\n",
       "      <th>bucket</th>\n",
       "      <th></th>\n",
       "      <th></th>\n",
       "    </tr>\n",
       "  </thead>\n",
       "  <tbody>\n",
       "    <tr>\n",
       "      <th>(0, 15]</th>\n",
       "      <td>49</td>\n",
       "      <td>0.29</td>\n",
       "    </tr>\n",
       "    <tr>\n",
       "      <th>(15, 25]</th>\n",
       "      <td>139</td>\n",
       "      <td>0.82</td>\n",
       "    </tr>\n",
       "    <tr>\n",
       "      <th>(25, 35]</th>\n",
       "      <td>230</td>\n",
       "      <td>1.36</td>\n",
       "    </tr>\n",
       "    <tr>\n",
       "      <th>(35, 45]</th>\n",
       "      <td>440</td>\n",
       "      <td>2.61</td>\n",
       "    </tr>\n",
       "    <tr>\n",
       "      <th>(45, 55]</th>\n",
       "      <td>913</td>\n",
       "      <td>5.42</td>\n",
       "    </tr>\n",
       "    <tr>\n",
       "      <th>(55, 65]</th>\n",
       "      <td>2428</td>\n",
       "      <td>14.41</td>\n",
       "    </tr>\n",
       "    <tr>\n",
       "      <th>(65, 75]</th>\n",
       "      <td>4252</td>\n",
       "      <td>25.23</td>\n",
       "    </tr>\n",
       "    <tr>\n",
       "      <th>(75, 85]</th>\n",
       "      <td>4817</td>\n",
       "      <td>28.58</td>\n",
       "    </tr>\n",
       "    <tr>\n",
       "      <th>(85, 500]</th>\n",
       "      <td>3586</td>\n",
       "      <td>21.28</td>\n",
       "    </tr>\n",
       "  </tbody>\n",
       "</table>\n",
       "</div>"
      ],
      "text/plain": [
       "           AGE_YRS  percent\n",
       "bucket                     \n",
       "(0, 15]         49     0.29\n",
       "(15, 25]       139     0.82\n",
       "(25, 35]       230     1.36\n",
       "(35, 45]       440     2.61\n",
       "(45, 55]       913     5.42\n",
       "(55, 65]      2428    14.41\n",
       "(65, 75]      4252    25.23\n",
       "(75, 85]      4817    28.58\n",
       "(85, 500]     3586    21.28"
      ]
     },
     "metadata": {},
     "output_type": "display_data"
    },
    {
     "name": "stdout",
     "output_type": "stream",
     "text": [
      "\n",
      "-------------------------\n",
      "\n"
     ]
    },
    {
     "data": {
      "image/png": "[encoded data removed]",
      "text/plain": [
       "<Figure size 640x480 with 1 Axes>"
      ]
     },
     "metadata": {},
     "output_type": "display_data"
    }
   ],
   "source": [
    "temp = break_down_buckets(df_death,'AGE_YRS',[0,15,25,35,45,55,65,75,85,500],message='***deaths only***')\n",
    "temp = temp.reset_index()\n",
    "temp[\"bucket\"] = temp[\"bucket\"].astype(str)\n",
    "\n",
    "# temp = temp.reset_index()\n",
    "# temp.plot.bar(title='AGE_YRS (death only)',x='bucket',y='AGE_YRS',rot=90,figsize=(5,5),width=0.25,fontsize=18)\n",
    "# # temp.plot.bar(title='AGE_YRS (death only)',x='bucket',y='percent',rot=90,figsize=(5,5),width=0.25,fontsize=18)\n",
    "\n",
    "# fig = px.bar(\n",
    "#     temp, \n",
    "#     x='percent', \n",
    "#     y='bucket',\n",
    "#     title=\"The Age of the Patient\"\n",
    "#     )\n",
    "# fig.show()\n",
    "\n",
    "sns.barplot(\n",
    "    data=temp,\n",
    "    x=\"percent\", \n",
    "    y=\"bucket\",\n",
    "    palette = \"Spectral\"\n",
    "    ).set(title='The Age of the Patient (Deaths Only)')\n",
    "\n",
    "print('\\n' + '-'*25 + '\\n')\n"
   ]
  },
  {
   "cell_type": "markdown",
   "metadata": {},
   "source": [
    "### the number of days between the vaccine and the adverse rection"
   ]
  },
  {
   "cell_type": "code",
   "execution_count": 49,
   "metadata": {},
   "outputs": [
    {
     "name": "stdout",
     "output_type": "stream",
     "text": [
      "the number of days between the vaccine and the adverse rection\n",
      "  \n",
      "column:  NUMDAYS \n",
      "buckets:  [0, 10, 20, 30, 40, 50, 60]\n"
     ]
    },
    {
     "data": {
      "text/html": [
       "<div>\n",
       "<style scoped>\n",
       "    .dataframe tbody tr th:only-of-type {\n",
       "        vertical-align: middle;\n",
       "    }\n",
       "\n",
       "    .dataframe tbody tr th {\n",
       "        vertical-align: top;\n",
       "    }\n",
       "\n",
       "    .dataframe thead th {\n",
       "        text-align: right;\n",
       "    }\n",
       "</style>\n",
       "<table border=\"1\" class=\"dataframe\">\n",
       "  <thead>\n",
       "    <tr style=\"text-align: right;\">\n",
       "      <th></th>\n",
       "      <th>NUMDAYS</th>\n",
       "      <th>percent</th>\n",
       "    </tr>\n",
       "    <tr>\n",
       "      <th>bucket</th>\n",
       "      <th></th>\n",
       "      <th></th>\n",
       "    </tr>\n",
       "  </thead>\n",
       "  <tbody>\n",
       "    <tr>\n",
       "      <th>(0, 10]</th>\n",
       "      <td>288294</td>\n",
       "      <td>75.73</td>\n",
       "    </tr>\n",
       "    <tr>\n",
       "      <th>(10, 20]</th>\n",
       "      <td>38190</td>\n",
       "      <td>10.03</td>\n",
       "    </tr>\n",
       "    <tr>\n",
       "      <th>(20, 30]</th>\n",
       "      <td>28138</td>\n",
       "      <td>7.39</td>\n",
       "    </tr>\n",
       "    <tr>\n",
       "      <th>(30, 40]</th>\n",
       "      <td>13633</td>\n",
       "      <td>3.58</td>\n",
       "    </tr>\n",
       "    <tr>\n",
       "      <th>(40, 50]</th>\n",
       "      <td>6921</td>\n",
       "      <td>1.82</td>\n",
       "    </tr>\n",
       "    <tr>\n",
       "      <th>(50, 60]</th>\n",
       "      <td>5492</td>\n",
       "      <td>1.44</td>\n",
       "    </tr>\n",
       "  </tbody>\n",
       "</table>\n",
       "</div>"
      ],
      "text/plain": [
       "          NUMDAYS  percent\n",
       "bucket                    \n",
       "(0, 10]    288294    75.73\n",
       "(10, 20]    38190    10.03\n",
       "(20, 30]    28138     7.39\n",
       "(30, 40]    13633     3.58\n",
       "(40, 50]     6921     1.82\n",
       "(50, 60]     5492     1.44"
      ]
     },
     "metadata": {},
     "output_type": "display_data"
    },
    {
     "name": "stdout",
     "output_type": "stream",
     "text": [
      "\n",
      "-------------------------\n",
      "\n"
     ]
    },
    {
     "data": {
      "image/png": "[encoded data removed]",
      "text/plain": [
       "<Figure size 640x480 with 1 Axes>"
      ]
     },
     "metadata": {},
     "output_type": "display_data"
    }
   ],
   "source": [
    "\n",
    "\n",
    "print('the number of days between the vaccine and the adverse rection')\n",
    "temp = break_down_buckets(df,'NUMDAYS',[0,10,20,30,40,50,60])\n",
    "temp = temp.reset_index()\n",
    "temp[\"bucket\"] = temp[\"bucket\"].astype(str)\n",
    "\n",
    "# temp.plot.barh(title='NUMDAYS',x='bucket',y='NUMDAYS',rot=0,figsize=(10,5),width=0.25,fontsize=18)\n",
    "# # temp.plot.bar(title='AGE_YRS',x='bucket',y='percent',rot=90,figsize=(5,5),width=0.25,fontsize=18)\n",
    "\n",
    "# fig = px.bar(\n",
    "#     temp, \n",
    "#     x='percent', \n",
    "#     y='bucket',\n",
    "#     title=\"the number of days between the vaccine and the adverse rection\"\n",
    "#     )\n",
    "# fig.show()\n",
    "\n",
    "sns.barplot(\n",
    "    data=temp,\n",
    "    x=\"percent\", \n",
    "    y=\"bucket\",\n",
    "    palette = \"Spectral\"\n",
    "    ).set(title='the number of days between the vaccine and the adverse rection')\n",
    "\n",
    "print('\\n' + '-'*25 + '\\n')\n",
    "\n",
    "\n"
   ]
  },
  {
   "cell_type": "code",
   "execution_count": 50,
   "metadata": {},
   "outputs": [
    {
     "name": "stdout",
     "output_type": "stream",
     "text": [
      " ***deaths only*** \n",
      "column:  NUMDAYS \n",
      "buckets:  [0, 10, 20, 30, 40, 50, 60]\n"
     ]
    },
    {
     "data": {
      "text/html": [
       "<div>\n",
       "<style scoped>\n",
       "    .dataframe tbody tr th:only-of-type {\n",
       "        vertical-align: middle;\n",
       "    }\n",
       "\n",
       "    .dataframe tbody tr th {\n",
       "        vertical-align: top;\n",
       "    }\n",
       "\n",
       "    .dataframe thead th {\n",
       "        text-align: right;\n",
       "    }\n",
       "</style>\n",
       "<table border=\"1\" class=\"dataframe\">\n",
       "  <thead>\n",
       "    <tr style=\"text-align: right;\">\n",
       "      <th></th>\n",
       "      <th>NUMDAYS</th>\n",
       "      <th>percent</th>\n",
       "    </tr>\n",
       "    <tr>\n",
       "      <th>bucket</th>\n",
       "      <th></th>\n",
       "      <th></th>\n",
       "    </tr>\n",
       "  </thead>\n",
       "  <tbody>\n",
       "    <tr>\n",
       "      <th>(0, 10]</th>\n",
       "      <td>3752</td>\n",
       "      <td>52.59</td>\n",
       "    </tr>\n",
       "    <tr>\n",
       "      <th>(10, 20]</th>\n",
       "      <td>1233</td>\n",
       "      <td>17.28</td>\n",
       "    </tr>\n",
       "    <tr>\n",
       "      <th>(20, 30]</th>\n",
       "      <td>900</td>\n",
       "      <td>12.62</td>\n",
       "    </tr>\n",
       "    <tr>\n",
       "      <th>(30, 40]</th>\n",
       "      <td>532</td>\n",
       "      <td>7.46</td>\n",
       "    </tr>\n",
       "    <tr>\n",
       "      <th>(40, 50]</th>\n",
       "      <td>379</td>\n",
       "      <td>5.31</td>\n",
       "    </tr>\n",
       "    <tr>\n",
       "      <th>(50, 60]</th>\n",
       "      <td>338</td>\n",
       "      <td>4.74</td>\n",
       "    </tr>\n",
       "  </tbody>\n",
       "</table>\n",
       "</div>"
      ],
      "text/plain": [
       "          NUMDAYS  percent\n",
       "bucket                    \n",
       "(0, 10]      3752    52.59\n",
       "(10, 20]     1233    17.28\n",
       "(20, 30]      900    12.62\n",
       "(30, 40]      532     7.46\n",
       "(40, 50]      379     5.31\n",
       "(50, 60]      338     4.74"
      ]
     },
     "metadata": {},
     "output_type": "display_data"
    },
    {
     "name": "stdout",
     "output_type": "stream",
     "text": [
      "\n",
      "-------------------------\n",
      "\n"
     ]
    },
    {
     "data": {
      "image/png": "[encoded data removed]",
      "text/plain": [
       "<Figure size 640x480 with 1 Axes>"
      ]
     },
     "metadata": {},
     "output_type": "display_data"
    }
   ],
   "source": [
    "temp = break_down_buckets(df_death,'NUMDAYS',[0,10,20,30,40,50,60],message='***deaths only***')\n",
    "temp = temp.reset_index()\n",
    "temp[\"bucket\"] = temp[\"bucket\"].astype(str)\n",
    "\n",
    "# temp.plot.barh(title='NUMDAYS (deaths only)',x='bucket',y='NUMDAYS',rot=0,figsize=(10,5),width=0.25,fontsize=18)\n",
    "# temp.plot.bar(title='AGE_YRS',x='bucket',y='percent',rot=90,figsize=(5,5),width=0.25,fontsize=18)\n",
    "\n",
    "# fig = px.bar(\n",
    "#     temp, \n",
    "#     x='percent', \n",
    "#     y='bucket',\n",
    "#     title=\"the number of days between the vaccine and death\"\n",
    "#     )\n",
    "# fig.show()\n",
    "\n",
    "sns.barplot(\n",
    "    data=temp,\n",
    "    x=\"percent\", \n",
    "    y=\"bucket\",\n",
    "    palette = \"Spectral\"\n",
    "    ).set(title='the number of days between the vaccine and death')\n",
    "\n",
    "print('\\n' + '-'*25 + '\\n')"
   ]
  },
  {
   "cell_type": "code",
   "execution_count": 52,
   "metadata": {},
   "outputs": [
    {
     "data": {
      "text/plain": [
       "[Text(0.5, 1.0, 'showing number of days between vaccine and adverse reaction ( only 10 days or less, broke out death into other color)')]"
      ]
     },
     "execution_count": 52,
     "metadata": {},
     "output_type": "execute_result"
    },
    {
     "data": {
      "image/png": "[encoded data removed]",
      "text/plain": [
       "<Figure size 640x480 with 1 Axes>"
      ]
     },
     "metadata": {},
     "output_type": "display_data"
    }
   ],
   "source": [
    "temp = df[df['NUMDAYS'] <= 10]\n",
    "\n",
    "sns.histplot(\n",
    "    data=temp, \n",
    "    x=\"NUMDAYS\",\n",
    "    hue='DIED', \n",
    "    kde=True\n",
    "    ).set(title='showing number of days between vaccine and adverse reaction ( only 10 days or less, broke out death into other color)')\n",
    "\n",
    "# fig = px.histogram(\n",
    "#     temp, \n",
    "#     x=\"NUMDAYS\",\n",
    "#     color='DIED',\n",
    "#     marginal=\"violin\",\n",
    "#     hover_data=temp.columns,\n",
    "#     title=\"showing number of days between vaccine and adverse reaction ( only 25 days or less, 25% sample,broke out death into other color)\"\n",
    "#     )\n",
    "# fig.update_layout(barmode='overlay')\n",
    "# fig.update_traces(opacity=0.75)\n",
    "# fig.show()"
   ]
  },
  {
   "cell_type": "markdown",
   "metadata": {},
   "source": [
    "### break down of the VAX_NAME column"
   ]
  },
  {
   "cell_type": "code",
   "execution_count": 54,
   "metadata": {},
   "outputs": [
    {
     "name": "stdout",
     "output_type": "stream",
     "text": [
      "break down of the VAX_NAME column\n",
      "\n",
      "break down of VAX_NAME\n"
     ]
    },
    {
     "data": {
      "text/html": [
       "<div>\n",
       "<style scoped>\n",
       "    .dataframe tbody tr th:only-of-type {\n",
       "        vertical-align: middle;\n",
       "    }\n",
       "\n",
       "    .dataframe tbody tr th {\n",
       "        vertical-align: top;\n",
       "    }\n",
       "\n",
       "    .dataframe thead th {\n",
       "        text-align: right;\n",
       "    }\n",
       "</style>\n",
       "<table border=\"1\" class=\"dataframe\">\n",
       "  <thead>\n",
       "    <tr style=\"text-align: right;\">\n",
       "      <th></th>\n",
       "      <th>column</th>\n",
       "      <th>value</th>\n",
       "      <th>count</th>\n",
       "      <th>percent</th>\n",
       "    </tr>\n",
       "  </thead>\n",
       "  <tbody>\n",
       "    <tr>\n",
       "      <th>0</th>\n",
       "      <td>VAX_NAME</td>\n",
       "      <td>COVID19 (COVID19 (PFIZER-BIONTECH))</td>\n",
       "      <td>437667</td>\n",
       "      <td>46.24</td>\n",
       "    </tr>\n",
       "    <tr>\n",
       "      <th>1</th>\n",
       "      <td>VAX_NAME</td>\n",
       "      <td>COVID19 (COVID19 (UNKNOWN))</td>\n",
       "      <td>4579</td>\n",
       "      <td>0.48</td>\n",
       "    </tr>\n",
       "    <tr>\n",
       "      <th>2</th>\n",
       "      <td>VAX_NAME</td>\n",
       "      <td>COVID19 (COVID19 (MODERNA))</td>\n",
       "      <td>423732</td>\n",
       "      <td>44.77</td>\n",
       "    </tr>\n",
       "    <tr>\n",
       "      <th>3</th>\n",
       "      <td>VAX_NAME</td>\n",
       "      <td>COVID19 (COVID19 (JANSSEN))</td>\n",
       "      <td>71507</td>\n",
       "      <td>7.55</td>\n",
       "    </tr>\n",
       "    <tr>\n",
       "      <th>4</th>\n",
       "      <td>VAX_NAME</td>\n",
       "      <td>COVID19 (COVID19 (NOVAVAX))</td>\n",
       "      <td>154</td>\n",
       "      <td>0.02</td>\n",
       "    </tr>\n",
       "    <tr>\n",
       "      <th>5</th>\n",
       "      <td>VAX_NAME</td>\n",
       "      <td>COVID19 (COVID19 (MODERNA BIVALENT))</td>\n",
       "      <td>4025</td>\n",
       "      <td>0.43</td>\n",
       "    </tr>\n",
       "    <tr>\n",
       "      <th>6</th>\n",
       "      <td>VAX_NAME</td>\n",
       "      <td>COVID19 (COVID19 (PFIZER-BIONTECH BIVALENT))</td>\n",
       "      <td>4863</td>\n",
       "      <td>0.51</td>\n",
       "    </tr>\n",
       "  </tbody>\n",
       "</table>\n",
       "</div>"
      ],
      "text/plain": [
       "     column                                         value   count  percent\n",
       "0  VAX_NAME           COVID19 (COVID19 (PFIZER-BIONTECH))  437667    46.24\n",
       "1  VAX_NAME                   COVID19 (COVID19 (UNKNOWN))    4579     0.48\n",
       "2  VAX_NAME                   COVID19 (COVID19 (MODERNA))  423732    44.77\n",
       "3  VAX_NAME                   COVID19 (COVID19 (JANSSEN))   71507     7.55\n",
       "4  VAX_NAME                   COVID19 (COVID19 (NOVAVAX))     154     0.02\n",
       "5  VAX_NAME          COVID19 (COVID19 (MODERNA BIVALENT))    4025     0.43\n",
       "6  VAX_NAME  COVID19 (COVID19 (PFIZER-BIONTECH BIVALENT))    4863     0.51"
      ]
     },
     "metadata": {},
     "output_type": "display_data"
    },
    {
     "name": "stdout",
     "output_type": "stream",
     "text": [
      "\n",
      "***deaths only***\n",
      "\n",
      "break down of VAX_NAME\n"
     ]
    },
    {
     "data": {
      "text/html": [
       "<div>\n",
       "<style scoped>\n",
       "    .dataframe tbody tr th:only-of-type {\n",
       "        vertical-align: middle;\n",
       "    }\n",
       "\n",
       "    .dataframe tbody tr th {\n",
       "        vertical-align: top;\n",
       "    }\n",
       "\n",
       "    .dataframe thead th {\n",
       "        text-align: right;\n",
       "    }\n",
       "</style>\n",
       "<table border=\"1\" class=\"dataframe\">\n",
       "  <thead>\n",
       "    <tr style=\"text-align: right;\">\n",
       "      <th></th>\n",
       "      <th>column</th>\n",
       "      <th>value</th>\n",
       "      <th>count</th>\n",
       "      <th>percent</th>\n",
       "    </tr>\n",
       "  </thead>\n",
       "  <tbody>\n",
       "    <tr>\n",
       "      <th>0</th>\n",
       "      <td>VAX_NAME</td>\n",
       "      <td>COVID19 (COVID19 (MODERNA))</td>\n",
       "      <td>7783</td>\n",
       "      <td>42.42</td>\n",
       "    </tr>\n",
       "    <tr>\n",
       "      <th>1</th>\n",
       "      <td>VAX_NAME</td>\n",
       "      <td>COVID19 (COVID19 (PFIZER-BIONTECH))</td>\n",
       "      <td>8608</td>\n",
       "      <td>46.92</td>\n",
       "    </tr>\n",
       "    <tr>\n",
       "      <th>2</th>\n",
       "      <td>VAX_NAME</td>\n",
       "      <td>COVID19 (COVID19 (UNKNOWN))</td>\n",
       "      <td>64</td>\n",
       "      <td>0.35</td>\n",
       "    </tr>\n",
       "    <tr>\n",
       "      <th>3</th>\n",
       "      <td>VAX_NAME</td>\n",
       "      <td>COVID19 (COVID19 (JANSSEN))</td>\n",
       "      <td>1825</td>\n",
       "      <td>9.95</td>\n",
       "    </tr>\n",
       "    <tr>\n",
       "      <th>4</th>\n",
       "      <td>VAX_NAME</td>\n",
       "      <td>COVID19 (COVID19 (PFIZER-BIONTECH BIVALENT))</td>\n",
       "      <td>46</td>\n",
       "      <td>0.25</td>\n",
       "    </tr>\n",
       "    <tr>\n",
       "      <th>5</th>\n",
       "      <td>VAX_NAME</td>\n",
       "      <td>COVID19 (COVID19 (MODERNA BIVALENT))</td>\n",
       "      <td>21</td>\n",
       "      <td>0.11</td>\n",
       "    </tr>\n",
       "  </tbody>\n",
       "</table>\n",
       "</div>"
      ],
      "text/plain": [
       "     column                                         value  count  percent\n",
       "0  VAX_NAME                   COVID19 (COVID19 (MODERNA))   7783    42.42\n",
       "1  VAX_NAME           COVID19 (COVID19 (PFIZER-BIONTECH))   8608    46.92\n",
       "2  VAX_NAME                   COVID19 (COVID19 (UNKNOWN))     64     0.35\n",
       "3  VAX_NAME                   COVID19 (COVID19 (JANSSEN))   1825     9.95\n",
       "4  VAX_NAME  COVID19 (COVID19 (PFIZER-BIONTECH BIVALENT))     46     0.25\n",
       "5  VAX_NAME          COVID19 (COVID19 (MODERNA BIVALENT))     21     0.11"
      ]
     },
     "metadata": {},
     "output_type": "display_data"
    },
    {
     "name": "stdout",
     "output_type": "stream",
     "text": [
      "calculating the death ratio ( death_count / count )\n"
     ]
    },
    {
     "data": {
      "text/html": [
       "<div>\n",
       "<style scoped>\n",
       "    .dataframe tbody tr th:only-of-type {\n",
       "        vertical-align: middle;\n",
       "    }\n",
       "\n",
       "    .dataframe tbody tr th {\n",
       "        vertical-align: top;\n",
       "    }\n",
       "\n",
       "    .dataframe thead th {\n",
       "        text-align: right;\n",
       "    }\n",
       "</style>\n",
       "<table border=\"1\" class=\"dataframe\">\n",
       "  <thead>\n",
       "    <tr style=\"text-align: right;\">\n",
       "      <th></th>\n",
       "      <th>column</th>\n",
       "      <th>value</th>\n",
       "      <th>count</th>\n",
       "      <th>death_count</th>\n",
       "      <th>death_ratio</th>\n",
       "      <th>death_percent</th>\n",
       "    </tr>\n",
       "  </thead>\n",
       "  <tbody>\n",
       "    <tr>\n",
       "      <th>0</th>\n",
       "      <td>VAX_NAME</td>\n",
       "      <td>COVID19 (COVID19 (PFIZER-BIONTECH))</td>\n",
       "      <td>437667</td>\n",
       "      <td>8608</td>\n",
       "      <td>0.02</td>\n",
       "      <td>1.97</td>\n",
       "    </tr>\n",
       "    <tr>\n",
       "      <th>1</th>\n",
       "      <td>VAX_NAME</td>\n",
       "      <td>COVID19 (COVID19 (UNKNOWN))</td>\n",
       "      <td>4579</td>\n",
       "      <td>64</td>\n",
       "      <td>0.01</td>\n",
       "      <td>1.40</td>\n",
       "    </tr>\n",
       "    <tr>\n",
       "      <th>2</th>\n",
       "      <td>VAX_NAME</td>\n",
       "      <td>COVID19 (COVID19 (MODERNA))</td>\n",
       "      <td>423732</td>\n",
       "      <td>7783</td>\n",
       "      <td>0.02</td>\n",
       "      <td>1.84</td>\n",
       "    </tr>\n",
       "    <tr>\n",
       "      <th>3</th>\n",
       "      <td>VAX_NAME</td>\n",
       "      <td>COVID19 (COVID19 (JANSSEN))</td>\n",
       "      <td>71507</td>\n",
       "      <td>1825</td>\n",
       "      <td>0.03</td>\n",
       "      <td>2.55</td>\n",
       "    </tr>\n",
       "    <tr>\n",
       "      <th>4</th>\n",
       "      <td>VAX_NAME</td>\n",
       "      <td>COVID19 (COVID19 (MODERNA BIVALENT))</td>\n",
       "      <td>4025</td>\n",
       "      <td>21</td>\n",
       "      <td>0.01</td>\n",
       "      <td>0.52</td>\n",
       "    </tr>\n",
       "    <tr>\n",
       "      <th>5</th>\n",
       "      <td>VAX_NAME</td>\n",
       "      <td>COVID19 (COVID19 (PFIZER-BIONTECH BIVALENT))</td>\n",
       "      <td>4863</td>\n",
       "      <td>46</td>\n",
       "      <td>0.01</td>\n",
       "      <td>0.95</td>\n",
       "    </tr>\n",
       "  </tbody>\n",
       "</table>\n",
       "</div>"
      ],
      "text/plain": [
       "     column                                         value   count  \\\n",
       "0  VAX_NAME           COVID19 (COVID19 (PFIZER-BIONTECH))  437667   \n",
       "1  VAX_NAME                   COVID19 (COVID19 (UNKNOWN))    4579   \n",
       "2  VAX_NAME                   COVID19 (COVID19 (MODERNA))  423732   \n",
       "3  VAX_NAME                   COVID19 (COVID19 (JANSSEN))   71507   \n",
       "4  VAX_NAME          COVID19 (COVID19 (MODERNA BIVALENT))    4025   \n",
       "5  VAX_NAME  COVID19 (COVID19 (PFIZER-BIONTECH BIVALENT))    4863   \n",
       "\n",
       "   death_count  death_ratio  death_percent  \n",
       "0         8608         0.02           1.97  \n",
       "1           64         0.01           1.40  \n",
       "2         7783         0.02           1.84  \n",
       "3         1825         0.03           2.55  \n",
       "4           21         0.01           0.52  \n",
       "5           46         0.01           0.95  "
      ]
     },
     "metadata": {},
     "output_type": "display_data"
    },
    {
     "name": "stdout",
     "output_type": "stream",
     "text": [
      "\n",
      "-------------------------\n",
      "\n"
     ]
    }
   ],
   "source": [
    "\n",
    "print('break down of the VAX_NAME column')\n",
    "df_VN = break_down_columns(df,'VAX_NAME')\n",
    "\n",
    "print('\\n***deaths only***')\n",
    "df_DVN = break_down_columns(df_death,'VAX_NAME')\n",
    "\n",
    "# df_CVN = df_VN.join(df_DVN[['value','count']],on='value')\n",
    "df_DVN = df_DVN.rename(columns={\"count\": \"death_count\"})\n",
    "\n",
    "\n",
    "print('calculating the death ratio ( death_count / count )')\n",
    "df_CVN = pd.concat([df_VN,df_DVN],keys=['value'],join=\"inner\",axis=1)\n",
    "\n",
    "df_CVN = pd.merge(df_VN,df_DVN,on=['value'])\n",
    "df_CVN = df_CVN.drop(columns=['percent_x','percent_y','column_y']) \n",
    "df_CVN = df_CVN.rename(columns={\"column_x\": \"column\"})\n",
    "df_CVN['death_ratio'] = df_CVN['death_count'] / df_CVN['count']\n",
    "df_CVN['death_percent'] = df_CVN['death_ratio']*100\n",
    "\n",
    "display(df_CVN)\n",
    "\n",
    "\n",
    "\n",
    "print('\\n' + '-'*25 + '\\n')"
   ]
  },
  {
   "cell_type": "markdown",
   "metadata": {},
   "source": [
    "## Approximating actual adverse reaction numbers\n",
    "\n",
    "VAERS only contains reported data and  \n",
    "*'...fewer than 1% of vaccine adverse events are reported.'*  \n",
    "Source: \n",
    "https://digital.ahrq.gov/sites/default/files/docs/publication/r18hs017045-lazarus-final-report-2011.pdf (page 6)\n",
    "\n",
    "\n",
    "we will me multiplying the counts by 80 and 120,  \n",
    "in order to get an approzimate min and max of what the numbers might actually be.  \n",
    "\n"
   ]
  },
  {
   "cell_type": "code",
   "execution_count": 55,
   "metadata": {},
   "outputs": [
    {
     "name": "stdout",
     "output_type": "stream",
     "text": [
      "( approx adverse reactions / vaxxed [1 or more shots] ) * 100\n",
      " min: ( 75,722,160 / 595,828,629 ) * 100 \n",
      " max: ( 113,583,240 / 595,828,629 ) * 100 \n",
      " 12.71 % - 19.06 % \n",
      "\n",
      "( approx adverse deaths / vaxxed [1 or more shots] ) * 100\n",
      " min: ( 1,467,760 / 595,828,629 ) * 100 \n",
      " max: ( 2,201,640 / 595,828,629 ) * 100 \n",
      " 0.25 % - 0.37 % \n",
      "\n",
      "( approx no recovery / vaxxed [1 or more shots] ) * 100\n",
      " min: ( 25,463,760 / 595,828,629 ) * 100 \n",
      " max: ( 38,195,640 / 595,828,629 ) * 100 \n",
      " 4.27 % - 6.41 % \n",
      "\n",
      "( approx no recovery + (50% of unknowns) / vaxxed [1 or more shots] ) * 100\n",
      " min: ( 34,511,440.0 / 595,828,629 ) * 100 \n",
      " max: ( 51,767,160.0 / 595,828,629 ) * 100 \n",
      " 5.79 % - 8.69 % \n",
      "\n"
     ]
    }
   ],
   "source": [
    "\n",
    "def print_percent(vmin,vmax,label0,vcount,label1):\n",
    "    \"\"\"\n",
    "    vmin: vaers min\n",
    "    vmax: vaers max\n",
    "    label0: vaers label\n",
    "    vcount: vaxxed count\n",
    "    label1: vaxxed label\n",
    "    \"\"\"\n",
    "    print(\n",
    "        '( {label0} / {lavel1} ) * 100\\n'.format(\n",
    "            label0=label0,\n",
    "            lavel1=label1\n",
    "            ),\n",
    "        'min: ( {0:,} / {1:,} ) * 100 \\n'.format(vmin,vcount),\n",
    "        'max: ( {0:,} / {1:,} ) * 100 \\n'.format(vmax,vcount),\n",
    "        '{:.2f} %'.format((vmin/vcount)*100),\n",
    "        '-',\n",
    "        '{:.2f} %'.format((vmax/vcount)*100),\n",
    "        '\\n'\n",
    "        )   \n",
    "\n",
    "print_percent(\n",
    "    len(df)*80,\n",
    "    len(df)*120,\n",
    "    'approx adverse reactions',\n",
    "    vaxx,\n",
    "    'vaxxed [1 or more shots]'\n",
    "    )\n",
    "\n",
    "print_percent(\n",
    "    len(df_death)*80,\n",
    "    len(df_death)*120,\n",
    "    'approx adverse deaths',\n",
    "    vaxx,\n",
    "    'vaxxed [1 or more shots]'\n",
    "    )\n",
    "\n",
    "df_nrecovd = df[df['RECOVD']=='N']\n",
    "print_percent(\n",
    "    len(df_nrecovd)*80,\n",
    "    len(df_nrecovd)*120,\n",
    "    'approx no recovery',\n",
    "    vaxx,\n",
    "    'vaxxed [1 or more shots]'\n",
    "    )\n",
    "\n",
    "df_urecovd = df[df['RECOVD']=='U']\n",
    "print_percent(\n",
    "    (len(df_nrecovd) + (len(df_urecovd)*0.5))*80,\n",
    "    (len(df_nrecovd) + (len(df_urecovd)*0.5))*120,\n",
    "    'approx no recovery + (50% of unknowns)',\n",
    "    vaxx,\n",
    "    'vaxxed [1 or more shots]'\n",
    "    )\n"
   ]
  },
  {
   "cell_type": "markdown",
   "metadata": {},
   "source": [
    "## Women's Reproductive Symptoms\n",
    "\n",
    "Why?\n",
    "I have women in my life that were curious about this.\n",
    "\n",
    "WRS_list (list) :  a list of symptoms that effect or could cause effects to a women's reproductive system  \n",
    "df_WRS (DataFrame) :  a dataframe that contains VAERS events that have at least 1 of the WRS symptoms"
   ]
  },
  {
   "cell_type": "code",
   "execution_count": 56,
   "metadata": {},
   "outputs": [],
   "source": [
    "def symptom_filter_search(idf, search_list):\n",
    "    \"\"\"\n",
    "    returns a dataframe pf vaers events where the patient \n",
    "    has had 1 or more of the symptoms on the list\n",
    "    \"\"\"\n",
    "    print('this could take between 20sec-60sec')\n",
    "\n",
    "    data = idf.to_dict(orient='records')\n",
    "\n",
    "    search_list = [i.upper() for i in search_list]\n",
    "    \n",
    "    results = []\n",
    "    for index,d in enumerate(data):\n",
    "        # if index%5000 == 0:\n",
    "        #     print('{:.2f}'.format(index/len(data)))\n",
    "        try:\n",
    "            d['SYMPTOMS'] = [i.upper() for i in d['SYMPTOMS'] if isinstance(i, str)]\n",
    "        \n",
    "            symptom_match = list(set(d['SYMPTOMS']) & set(search_list))\n",
    "            d['SYMPTOMS_MATCH'] = symptom_match\n",
    "            d['SYMPTOMS_MATCH_LENGTH'] = len(symptom_match)\n",
    "            if len(symptom_match) > 0:\n",
    "                results.append(d)\n",
    "        except:\n",
    "            pass\n",
    "\n",
    "    return pd.DataFrame(results)"
   ]
  },
  {
   "cell_type": "code",
   "execution_count": 57,
   "metadata": {},
   "outputs": [],
   "source": [
    "WRS_list = [\n",
    "    'Intermenstrual bleeding',\n",
    "    'Menopause',\n",
    "    'Heavy menstrual bleeding',\n",
    "    'dysmenorrhoea',\n",
    "    'ABNORMAL UTERINE BLEEDING',\n",
    "    'MATERNAL EXPOSURE BEFORE PREGNANCY',\n",
    "    'MENSTRUATION IRREGULAR',\n",
    "    'Oligomenorrhea',\n",
    "    'OLIGOMENORRHOEA',\n",
    "    'POLYMENORRHOEA',\n",
    "    'MENSTRUAL DISORDER', \n",
    "    'OLIGOMENORRHOEA',\n",
    "    'ANOVULATORY CYCLE',\n",
    "    'OVULATION DELAYED',\n",
    "    'BACTERIAL VAGINOSIS',\n",
    "    'GYNAECOLOGICAL EXAMINATION ABNORMAL',\n",
    "    'OVARIAN CYST',\n",
    "    'BIOPSY UTERUS',\n",
    "    'UTERINE LEIOMYOMA',\n",
    "    'HOT FLUSH',\n",
    "    'BREAST TENDERNESS',\n",
    "    'BREAST SWELLING',\n",
    "    'BREAST PAIN',\n",
    "    'VAGINAL HAEMORRHAGE'\n",
    "    ]\n",
    "WRS_list = [i.upper() for i in WRS_list]"
   ]
  },
  {
   "cell_type": "code",
   "execution_count": 58,
   "metadata": {},
   "outputs": [
    {
     "name": "stdout",
     "output_type": "stream",
     "text": [
      "this could take between 20sec-60sec\n",
      "df_WRS.head(5)\n"
     ]
    },
    {
     "data": {
      "text/html": [
       "<div>\n",
       "<style scoped>\n",
       "    .dataframe tbody tr th:only-of-type {\n",
       "        vertical-align: middle;\n",
       "    }\n",
       "\n",
       "    .dataframe tbody tr th {\n",
       "        vertical-align: top;\n",
       "    }\n",
       "\n",
       "    .dataframe thead th {\n",
       "        text-align: right;\n",
       "    }\n",
       "</style>\n",
       "<table border=\"1\" class=\"dataframe\">\n",
       "  <thead>\n",
       "    <tr style=\"text-align: right;\">\n",
       "      <th></th>\n",
       "      <th>VAERS_ID</th>\n",
       "      <th>RECVDATE</th>\n",
       "      <th>STATE</th>\n",
       "      <th>AGE_YRS</th>\n",
       "      <th>CAGE_YR</th>\n",
       "      <th>CAGE_MO</th>\n",
       "      <th>SEX</th>\n",
       "      <th>RPT_DATE</th>\n",
       "      <th>SYMPTOM_TEXT</th>\n",
       "      <th>DIED</th>\n",
       "      <th>DATEDIED</th>\n",
       "      <th>L_THREAT</th>\n",
       "      <th>ER_VISIT</th>\n",
       "      <th>HOSPITAL</th>\n",
       "      <th>HOSPDAYS</th>\n",
       "      <th>X_STAY</th>\n",
       "      <th>DISABLE</th>\n",
       "      <th>RECOVD</th>\n",
       "      <th>VAX_DATE</th>\n",
       "      <th>ONSET_DATE</th>\n",
       "      <th>NUMDAYS</th>\n",
       "      <th>LAB_DATA</th>\n",
       "      <th>V_ADMINBY</th>\n",
       "      <th>V_FUNDBY</th>\n",
       "      <th>OTHER_MEDS</th>\n",
       "      <th>CUR_ILL</th>\n",
       "      <th>HISTORY</th>\n",
       "      <th>PRIOR_VAX</th>\n",
       "      <th>SPLTTYPE</th>\n",
       "      <th>FORM_VERS</th>\n",
       "      <th>TODAYS_DATE</th>\n",
       "      <th>BIRTH_DEFECT</th>\n",
       "      <th>OFC_VISIT</th>\n",
       "      <th>ER_ED_VISIT</th>\n",
       "      <th>ALLERGIES</th>\n",
       "      <th>VAX_TYPE</th>\n",
       "      <th>VAX_MANU</th>\n",
       "      <th>VAX_LOT</th>\n",
       "      <th>VAX_DOSE_SERIES</th>\n",
       "      <th>VAX_ROUTE</th>\n",
       "      <th>VAX_SITE</th>\n",
       "      <th>VAX_NAME</th>\n",
       "      <th>SYMPTOMS</th>\n",
       "      <th>COVID_VAX</th>\n",
       "      <th>SYMPTOMS_MATCH</th>\n",
       "      <th>SYMPTOMS_MATCH_LENGTH</th>\n",
       "    </tr>\n",
       "  </thead>\n",
       "  <tbody>\n",
       "    <tr>\n",
       "      <th>0</th>\n",
       "      <td>902796</td>\n",
       "      <td>12/16/2020</td>\n",
       "      <td>TX</td>\n",
       "      <td>34.00</td>\n",
       "      <td>34.00</td>\n",
       "      <td>NaN</td>\n",
       "      <td>F</td>\n",
       "      <td>NaN</td>\n",
       "      <td>I inserted my NuvaRing birth control on 12/14/2020.  I have the Covid19 vaccine on 12/15/2020 at about 8:30am.  The injection site was mildly sore and that continued into the next day.  I woke up on 12/16/2020 feeling a little off and it progressed throughout the day.  I felt a headache that I knew was turning into a migraine, threw up a few times (this is normal for me when I get migraines), and started having hot flashes.  My temperature never went above 98.  After sleeping a few hours and taking some Excedrin migraine I was feeling much better, though still a little sickly, by 4pm.  I really think this is due to my migraines (which I get roughly once a month) even though it was a day later than normal.</td>\n",
       "      <td>N</td>\n",
       "      <td>NaN</td>\n",
       "      <td>N</td>\n",
       "      <td>N</td>\n",
       "      <td>N</td>\n",
       "      <td>NaN</td>\n",
       "      <td>NaN</td>\n",
       "      <td>NaN</td>\n",
       "      <td>Y</td>\n",
       "      <td>12/15/2020</td>\n",
       "      <td>12/16/2020</td>\n",
       "      <td>1.00</td>\n",
       "      <td>NaN</td>\n",
       "      <td>PVT</td>\n",
       "      <td>NaN</td>\n",
       "      <td>Methylphenidate Citalopram Buspirone Tylenol</td>\n",
       "      <td>None</td>\n",
       "      <td>I normally get a migraine a day or two after I insert my NuvaRing.  I inserted it on Monday, 12/14/2020 and I think all my symptoms are related to that rather than the vaccination.</td>\n",
       "      <td>NaN</td>\n",
       "      <td>NaN</td>\n",
       "      <td>2</td>\n",
       "      <td>12/16/2020</td>\n",
       "      <td>NaN</td>\n",
       "      <td>NaN</td>\n",
       "      <td>NaN</td>\n",
       "      <td>None</td>\n",
       "      <td>COVID19</td>\n",
       "      <td>PFIZER\\BIONTECH</td>\n",
       "      <td>EH9899</td>\n",
       "      <td>1</td>\n",
       "      <td>SYR</td>\n",
       "      <td>LA</td>\n",
       "      <td>COVID19 (COVID19 (PFIZER-BIONTECH))</td>\n",
       "      <td>[CONDITION AGGRAVATED, FEELING ABNORMAL, HOT FLUSH, INJECTION SITE PAIN, MALAISE, MIGRAINE, VOMITING]</td>\n",
       "      <td>1</td>\n",
       "      <td>[HOT FLUSH]</td>\n",
       "      <td>1</td>\n",
       "    </tr>\n",
       "    <tr>\n",
       "      <th>1</th>\n",
       "      <td>903202</td>\n",
       "      <td>12/17/2020</td>\n",
       "      <td>NE</td>\n",
       "      <td>41.00</td>\n",
       "      <td>41.00</td>\n",
       "      <td>NaN</td>\n",
       "      <td>F</td>\n",
       "      <td>NaN</td>\n",
       "      <td>Severe dizzy spell about 5-10 following injection, helped to the floor, this lasted approximately 30-40 minutes after start of symptom.  Hot flashes and visual disturbance lasting into following day.</td>\n",
       "      <td>N</td>\n",
       "      <td>NaN</td>\n",
       "      <td>N</td>\n",
       "      <td>N</td>\n",
       "      <td>N</td>\n",
       "      <td>NaN</td>\n",
       "      <td>NaN</td>\n",
       "      <td>NaN</td>\n",
       "      <td>Y</td>\n",
       "      <td>12/16/2020</td>\n",
       "      <td>12/16/2020</td>\n",
       "      <td>0.00</td>\n",
       "      <td>None</td>\n",
       "      <td>OTH</td>\n",
       "      <td>NaN</td>\n",
       "      <td>Buspar, propranolol,  escitalopram, crestor, amitriptyline,  baby aspirin, super B complex, black elderberry, calcium/mag/zinc supplement, CoQ10, vitamin D3, biotin, antarctic Krill oil, women's multivitamin,  tart cherry supplement, ibupr</td>\n",
       "      <td>None</td>\n",
       "      <td>Migraine,  anxiety, depression, hyperlipidemia</td>\n",
       "      <td>NaN</td>\n",
       "      <td>NaN</td>\n",
       "      <td>2</td>\n",
       "      <td>12/17/2020</td>\n",
       "      <td>NaN</td>\n",
       "      <td>NaN</td>\n",
       "      <td>NaN</td>\n",
       "      <td>Aimovig</td>\n",
       "      <td>COVID19</td>\n",
       "      <td>PFIZER\\BIONTECH</td>\n",
       "      <td>EH9899</td>\n",
       "      <td>1</td>\n",
       "      <td>IM</td>\n",
       "      <td>RA</td>\n",
       "      <td>COVID19 (COVID19 (PFIZER-BIONTECH))</td>\n",
       "      <td>[DIZZINESS, HOT FLUSH, VISUAL IMPAIRMENT]</td>\n",
       "      <td>1</td>\n",
       "      <td>[HOT FLUSH]</td>\n",
       "      <td>1</td>\n",
       "    </tr>\n",
       "    <tr>\n",
       "      <th>2</th>\n",
       "      <td>903247</td>\n",
       "      <td>12/17/2020</td>\n",
       "      <td>AR</td>\n",
       "      <td>42.00</td>\n",
       "      <td>42.00</td>\n",
       "      <td>NaN</td>\n",
       "      <td>F</td>\n",
       "      <td>NaN</td>\n",
       "      <td>I had arm pain. Yesterday I had a hot flash with throwing up and diarrhea.</td>\n",
       "      <td>N</td>\n",
       "      <td>NaN</td>\n",
       "      <td>N</td>\n",
       "      <td>N</td>\n",
       "      <td>N</td>\n",
       "      <td>NaN</td>\n",
       "      <td>NaN</td>\n",
       "      <td>NaN</td>\n",
       "      <td>N</td>\n",
       "      <td>12/15/2020</td>\n",
       "      <td>12/16/2020</td>\n",
       "      <td>1.00</td>\n",
       "      <td>No</td>\n",
       "      <td>UNK</td>\n",
       "      <td>NaN</td>\n",
       "      <td>I take Estradiol, Metprolol, Lexapro, Multivitamin, Calcium, Ambien, Benadryl, Melatonin</td>\n",
       "      <td>No</td>\n",
       "      <td>I have SVT</td>\n",
       "      <td>NaN</td>\n",
       "      <td>vsafe</td>\n",
       "      <td>2</td>\n",
       "      <td>12/17/2020</td>\n",
       "      <td>NaN</td>\n",
       "      <td>NaN</td>\n",
       "      <td>NaN</td>\n",
       "      <td>I am allergic to Sulphur</td>\n",
       "      <td>COVID19</td>\n",
       "      <td>PFIZER\\BIONTECH</td>\n",
       "      <td>NaN</td>\n",
       "      <td>UNK</td>\n",
       "      <td>IM</td>\n",
       "      <td>LA</td>\n",
       "      <td>COVID19 (COVID19 (PFIZER-BIONTECH))</td>\n",
       "      <td>[DIARRHOEA, HOT FLUSH, PAIN IN EXTREMITY, VOMITING]</td>\n",
       "      <td>1</td>\n",
       "      <td>[HOT FLUSH]</td>\n",
       "      <td>1</td>\n",
       "    </tr>\n",
       "    <tr>\n",
       "      <th>3</th>\n",
       "      <td>903329</td>\n",
       "      <td>12/18/2020</td>\n",
       "      <td>PA</td>\n",
       "      <td>46.00</td>\n",
       "      <td>46.00</td>\n",
       "      <td>NaN</td>\n",
       "      <td>F</td>\n",
       "      <td>NaN</td>\n",
       "      <td>hot flushing feeling, light headed, legs heavy gave patient a chair to sit and candy symptoms resolved by 11:36</td>\n",
       "      <td>N</td>\n",
       "      <td>NaN</td>\n",
       "      <td>N</td>\n",
       "      <td>N</td>\n",
       "      <td>N</td>\n",
       "      <td>NaN</td>\n",
       "      <td>NaN</td>\n",
       "      <td>NaN</td>\n",
       "      <td>Y</td>\n",
       "      <td>12/17/2020</td>\n",
       "      <td>12/17/2020</td>\n",
       "      <td>0.00</td>\n",
       "      <td>NaN</td>\n",
       "      <td>PVT</td>\n",
       "      <td>NaN</td>\n",
       "      <td>NaN</td>\n",
       "      <td>NaN</td>\n",
       "      <td>NaN</td>\n",
       "      <td>NaN</td>\n",
       "      <td>NaN</td>\n",
       "      <td>2</td>\n",
       "      <td>12/18/2020</td>\n",
       "      <td>NaN</td>\n",
       "      <td>NaN</td>\n",
       "      <td>NaN</td>\n",
       "      <td>NaN</td>\n",
       "      <td>COVID19</td>\n",
       "      <td>PFIZER\\BIONTECH</td>\n",
       "      <td>EK5730</td>\n",
       "      <td>1</td>\n",
       "      <td>IM</td>\n",
       "      <td>RA</td>\n",
       "      <td>COVID19 (COVID19 (PFIZER-BIONTECH))</td>\n",
       "      <td>[DIZZINESS, HOT FLUSH, LIMB DISCOMFORT]</td>\n",
       "      <td>1</td>\n",
       "      <td>[HOT FLUSH]</td>\n",
       "      <td>1</td>\n",
       "    </tr>\n",
       "    <tr>\n",
       "      <th>4</th>\n",
       "      <td>903345</td>\n",
       "      <td>12/18/2020</td>\n",
       "      <td>VA</td>\n",
       "      <td>37.00</td>\n",
       "      <td>37.00</td>\n",
       "      <td>NaN</td>\n",
       "      <td>F</td>\n",
       "      <td>NaN</td>\n",
       "      <td>Right arm soreness, headache, hot flashes.</td>\n",
       "      <td>N</td>\n",
       "      <td>NaN</td>\n",
       "      <td>N</td>\n",
       "      <td>N</td>\n",
       "      <td>N</td>\n",
       "      <td>NaN</td>\n",
       "      <td>NaN</td>\n",
       "      <td>NaN</td>\n",
       "      <td>Y</td>\n",
       "      <td>12/16/2020</td>\n",
       "      <td>12/17/2020</td>\n",
       "      <td>1.00</td>\n",
       "      <td>NaN</td>\n",
       "      <td>WRK</td>\n",
       "      <td>NaN</td>\n",
       "      <td>NaN</td>\n",
       "      <td>None</td>\n",
       "      <td>None</td>\n",
       "      <td>NaN</td>\n",
       "      <td>NaN</td>\n",
       "      <td>2</td>\n",
       "      <td>12/18/2020</td>\n",
       "      <td>NaN</td>\n",
       "      <td>NaN</td>\n",
       "      <td>NaN</td>\n",
       "      <td>None</td>\n",
       "      <td>COVID19</td>\n",
       "      <td>PFIZER\\BIONTECH</td>\n",
       "      <td>NaN</td>\n",
       "      <td>UNK</td>\n",
       "      <td>NaN</td>\n",
       "      <td>RA</td>\n",
       "      <td>COVID19 (COVID19 (PFIZER-BIONTECH))</td>\n",
       "      <td>[HEADACHE, HOT FLUSH, PAIN IN EXTREMITY]</td>\n",
       "      <td>1</td>\n",
       "      <td>[HOT FLUSH]</td>\n",
       "      <td>1</td>\n",
       "    </tr>\n",
       "  </tbody>\n",
       "</table>\n",
       "</div>"
      ],
      "text/plain": [
       "   VAERS_ID    RECVDATE STATE  AGE_YRS  CAGE_YR  CAGE_MO SEX RPT_DATE  \\\n",
       "0    902796  12/16/2020    TX    34.00    34.00      NaN   F      NaN   \n",
       "1    903202  12/17/2020    NE    41.00    41.00      NaN   F      NaN   \n",
       "2    903247  12/17/2020    AR    42.00    42.00      NaN   F      NaN   \n",
       "3    903329  12/18/2020    PA    46.00    46.00      NaN   F      NaN   \n",
       "4    903345  12/18/2020    VA    37.00    37.00      NaN   F      NaN   \n",
       "\n",
       "                                                                                                                                                                                                                                                                                                                                                                                                                                                                                                                                                                                                                                                                                                                                 SYMPTOM_TEXT  \\\n",
       "0  I inserted my NuvaRing birth control on 12/14/2020.  I have the Covid19 vaccine on 12/15/2020 at about 8:30am.  The injection site was mildly sore and that continued into the next day.  I woke up on 12/16/2020 feeling a little off and it progressed throughout the day.  I felt a headache that I knew was turning into a migraine, threw up a few times (this is normal for me when I get migraines), and started having hot flashes.  My temperature never went above 98.  After sleeping a few hours and taking some Excedrin migraine I was feeling much better, though still a little sickly, by 4pm.  I really think this is due to my migraines (which I get roughly once a month) even though it was a day later than normal.   \n",
       "1                                                                                                                                                                                                                                                                                                                                                                                                                                                                                                                                     Severe dizzy spell about 5-10 following injection, helped to the floor, this lasted approximately 30-40 minutes after start of symptom.  Hot flashes and visual disturbance lasting into following day.   \n",
       "2                                                                                                                                                                                                                                                                                                                                                                                                                                                                                                                                                                                                                                                                  I had arm pain. Yesterday I had a hot flash with throwing up and diarrhea.   \n",
       "3                                                                                                                                                                                                                                                                                                                                                                                                                                                                                                                                                                                                                             hot flushing feeling, light headed, legs heavy gave patient a chair to sit and candy symptoms resolved by 11:36   \n",
       "4                                                                                                                                                                                                                                                                                                                                                                                                                                                                                                                                                                                                                                                                                                  Right arm soreness, headache, hot flashes.   \n",
       "\n",
       "  DIED DATEDIED L_THREAT ER_VISIT HOSPITAL  HOSPDAYS X_STAY DISABLE RECOVD  \\\n",
       "0    N      NaN        N        N        N       NaN    NaN     NaN      Y   \n",
       "1    N      NaN        N        N        N       NaN    NaN     NaN      Y   \n",
       "2    N      NaN        N        N        N       NaN    NaN     NaN      N   \n",
       "3    N      NaN        N        N        N       NaN    NaN     NaN      Y   \n",
       "4    N      NaN        N        N        N       NaN    NaN     NaN      Y   \n",
       "\n",
       "     VAX_DATE  ONSET_DATE  NUMDAYS LAB_DATA V_ADMINBY V_FUNDBY  \\\n",
       "0  12/15/2020  12/16/2020     1.00      NaN       PVT      NaN   \n",
       "1  12/16/2020  12/16/2020     0.00     None       OTH      NaN   \n",
       "2  12/15/2020  12/16/2020     1.00       No       UNK      NaN   \n",
       "3  12/17/2020  12/17/2020     0.00      NaN       PVT      NaN   \n",
       "4  12/16/2020  12/17/2020     1.00      NaN       WRK      NaN   \n",
       "\n",
       "                                                                                                                                                                                                                                        OTHER_MEDS  \\\n",
       "0                                                                                                                                                                                                     Methylphenidate Citalopram Buspirone Tylenol   \n",
       "1  Buspar, propranolol,  escitalopram, crestor, amitriptyline,  baby aspirin, super B complex, black elderberry, calcium/mag/zinc supplement, CoQ10, vitamin D3, biotin, antarctic Krill oil, women's multivitamin,  tart cherry supplement, ibupr   \n",
       "2                                                                                                                                                         I take Estradiol, Metprolol, Lexapro, Multivitamin, Calcium, Ambien, Benadryl, Melatonin   \n",
       "3                                                                                                                                                                                                                                              NaN   \n",
       "4                                                                                                                                                                                                                                              NaN   \n",
       "\n",
       "  CUR_ILL  \\\n",
       "0    None   \n",
       "1    None   \n",
       "2      No   \n",
       "3     NaN   \n",
       "4    None   \n",
       "\n",
       "                                                                                                                                                                                HISTORY  \\\n",
       "0  I normally get a migraine a day or two after I insert my NuvaRing.  I inserted it on Monday, 12/14/2020 and I think all my symptoms are related to that rather than the vaccination.   \n",
       "1                                                                                                                                        Migraine,  anxiety, depression, hyperlipidemia   \n",
       "2                                                                                                                                                                            I have SVT   \n",
       "3                                                                                                                                                                                   NaN   \n",
       "4                                                                                                                                                                                  None   \n",
       "\n",
       "  PRIOR_VAX SPLTTYPE  FORM_VERS TODAYS_DATE BIRTH_DEFECT OFC_VISIT  \\\n",
       "0       NaN      NaN          2  12/16/2020          NaN       NaN   \n",
       "1       NaN      NaN          2  12/17/2020          NaN       NaN   \n",
       "2       NaN    vsafe          2  12/17/2020          NaN       NaN   \n",
       "3       NaN      NaN          2  12/18/2020          NaN       NaN   \n",
       "4       NaN      NaN          2  12/18/2020          NaN       NaN   \n",
       "\n",
       "  ER_ED_VISIT                 ALLERGIES VAX_TYPE         VAX_MANU VAX_LOT  \\\n",
       "0         NaN                      None  COVID19  PFIZER\\BIONTECH  EH9899   \n",
       "1         NaN                   Aimovig  COVID19  PFIZER\\BIONTECH  EH9899   \n",
       "2         NaN  I am allergic to Sulphur  COVID19  PFIZER\\BIONTECH     NaN   \n",
       "3         NaN                       NaN  COVID19  PFIZER\\BIONTECH  EK5730   \n",
       "4         NaN                      None  COVID19  PFIZER\\BIONTECH     NaN   \n",
       "\n",
       "  VAX_DOSE_SERIES VAX_ROUTE VAX_SITE                             VAX_NAME  \\\n",
       "0               1       SYR       LA  COVID19 (COVID19 (PFIZER-BIONTECH))   \n",
       "1               1        IM       RA  COVID19 (COVID19 (PFIZER-BIONTECH))   \n",
       "2             UNK        IM       LA  COVID19 (COVID19 (PFIZER-BIONTECH))   \n",
       "3               1        IM       RA  COVID19 (COVID19 (PFIZER-BIONTECH))   \n",
       "4             UNK       NaN       RA  COVID19 (COVID19 (PFIZER-BIONTECH))   \n",
       "\n",
       "                                                                                                SYMPTOMS  \\\n",
       "0  [CONDITION AGGRAVATED, FEELING ABNORMAL, HOT FLUSH, INJECTION SITE PAIN, MALAISE, MIGRAINE, VOMITING]   \n",
       "1                                                              [DIZZINESS, HOT FLUSH, VISUAL IMPAIRMENT]   \n",
       "2                                                    [DIARRHOEA, HOT FLUSH, PAIN IN EXTREMITY, VOMITING]   \n",
       "3                                                                [DIZZINESS, HOT FLUSH, LIMB DISCOMFORT]   \n",
       "4                                                               [HEADACHE, HOT FLUSH, PAIN IN EXTREMITY]   \n",
       "\n",
       "   COVID_VAX SYMPTOMS_MATCH  SYMPTOMS_MATCH_LENGTH  \n",
       "0          1    [HOT FLUSH]                      1  \n",
       "1          1    [HOT FLUSH]                      1  \n",
       "2          1    [HOT FLUSH]                      1  \n",
       "3          1    [HOT FLUSH]                      1  \n",
       "4          1    [HOT FLUSH]                      1  "
      ]
     },
     "metadata": {},
     "output_type": "display_data"
    }
   ],
   "source": [
    "df_WRS = symptom_filter_search(df,WRS_list)\n",
    "\n",
    "print('df_WRS.head(5)')\n",
    "display(df_WRS.head(5))\n"
   ]
  },
  {
   "cell_type": "markdown",
   "metadata": {},
   "source": [
    "### What percent of women experienced WRS during their adverse reactions?\n",
    "\n",
    "(women experiencing reproductive symptoms ➗ number of women in VAERS data) * 100\n",
    "\n",
    "WRS_ratio (float) : count WRS / count VAERS"
   ]
  },
  {
   "cell_type": "code",
   "execution_count": 59,
   "metadata": {},
   "outputs": [
    {
     "name": "stdout",
     "output_type": "stream",
     "text": [
      "3.41 %\n",
      "VAERS records of women experiencing reproductive symptoms have been saved.\n",
      "saved:  .\\AllVAERSDataCSVS\\WRS.csv\n"
     ]
    }
   ],
   "source": [
    "#get count of women in VAERS data \n",
    "\n",
    "w_df = df[df['SEX']=='F']\n",
    "u_df = df[df['SEX']=='U']\n",
    "w_count = len(w_df) + (len(u_df)/2) #half of unknown\n",
    "\n",
    "WRS_ratio = (len(df_WRS)/w_count)\n",
    "\n",
    "print( '{:.2f} %'.format(WRS_ratio*100))\n",
    "\n",
    "file_name = os.path.join(DATAPATH,'WRS.csv')\n",
    "df_WRS.to_csv(file_name)\n",
    "\n",
    "print('VAERS records of women experiencing reproductive symptoms have been saved.')\n",
    "print('saved: ',file_name)\n",
    "\n"
   ]
  },
  {
   "cell_type": "markdown",
   "metadata": {},
   "source": [
    "### Approximate the number of WRS in reality\n",
    "\n",
    "since '~63% of the people who are vaccinated are women'\n",
    "source: https://www.statista.com/statistics/1212103/share-of-persons-initiating-covid-vaccinations-by-gender-us-first-month/\n",
    "\n",
    "we will be multiplying the total number of people vaccinated (1 or more shots) by 0.63 to get the count of women vaccinated.\n",
    "\n",
    "women_vaxx (float) : an approximate number of women who have had 1 or more vaccine shot.\n",
    "\n",
    ">note: 0.63 is an estimate, and the actual could be somewhere between 0.50 and 0.70"
   ]
  },
  {
   "cell_type": "code",
   "execution_count": 60,
   "metadata": {},
   "outputs": [
    {
     "name": "stdout",
     "output_type": "stream",
     "text": [
      "375372036.27\n"
     ]
    }
   ],
   "source": [
    "women_vaxx = vaxx * 0.63\n",
    "print(women_vaxx)"
   ]
  },
  {
   "cell_type": "markdown",
   "metadata": {},
   "source": [
    "### approximate real WRS\n",
    "if we assume that the VAERS data is a random sample (or close to it)  \n",
    "then the ratio of WRS systems should be the same...\n",
    "\n",
    "and thus we can get an approximate number of women that would be experiencing reproductive symptoms by multiplying the number of vaxxed women by the ratio\n",
    "\n",
    "WRS (float) : the approximate number of actual women experiencing reproductive symptoms\n",
    "min_WRS (float) : WRS * 0.80\n",
    "max_WRS (float) : WRS * 1.20"
   ]
  },
  {
   "cell_type": "code",
   "execution_count": 61,
   "metadata": {},
   "outputs": [],
   "source": [
    "WRS = women_vaxx * WRS_ratio\n",
    "min_WRS = WRS*0.80\n",
    "max_WRS = WRS*1.20"
   ]
  },
  {
   "cell_type": "code",
   "execution_count": 62,
   "metadata": {},
   "outputs": [
    {
     "name": "stdout",
     "output_type": "stream",
     "text": [
      "total vaxxed (1 or more)           ---  595,828,629.00 \n",
      "women vaxxed ~0.63%                ---  375,372,036.27 \n",
      "repro sympt / women count          ---  0.0341         \n",
      "(repro sympt / women count) * 100  ---  3.41 %         \n",
      "women w/ repro symptoms            ---  12,814,887.41  \n",
      "min women w/ repro symptoms        ---  10,251,909.93  \n",
      "max women w/ repro symptoms        ---  15,377,864.89  \n"
     ]
    }
   ],
   "source": [
    "cl = [35,5,15]\n",
    "print_row(['total vaxxed (1 or more)','---','{:,.2f}'.format(vaxx)],column_lengths=cl)\n",
    "print_row(['women vaxxed ~0.63%','---','{:,.2f}'.format(women_vaxx)],column_lengths=cl)\n",
    "print_row(['repro sympt / women count','---','{:,.4f}'.format(WRS_ratio)],column_lengths=cl)\n",
    "print_row(['(repro sympt / women count) * 100','---','{:,.2f} %'.format(WRS_ratio*100)],column_lengths=cl)\n",
    "print_row(['women w/ repro symptoms','---','{:,.2f}'.format(WRS)],column_lengths=cl)\n",
    "print_row(['min women w/ repro symptoms','---','{:,.2f}'.format(min_WRS)],column_lengths=cl)\n",
    "print_row(['max women w/ repro symptoms','---','{:,.2f}'.format(max_WRS)],column_lengths=cl)\n"
   ]
  },
  {
   "cell_type": "markdown",
   "metadata": {},
   "source": [
    "### Where do the WRS (Women reproductive symptoms) rank against with the other symptoms?"
   ]
  },
  {
   "cell_type": "code",
   "execution_count": 63,
   "metadata": {},
   "outputs": [
    {
     "data": {
      "text/html": [
       "<div>\n",
       "<style scoped>\n",
       "    .dataframe tbody tr th:only-of-type {\n",
       "        vertical-align: middle;\n",
       "    }\n",
       "\n",
       "    .dataframe tbody tr th {\n",
       "        vertical-align: top;\n",
       "    }\n",
       "\n",
       "    .dataframe thead th {\n",
       "        text-align: right;\n",
       "    }\n",
       "</style>\n",
       "<table border=\"1\" class=\"dataframe\">\n",
       "  <thead>\n",
       "    <tr style=\"text-align: right;\">\n",
       "      <th></th>\n",
       "      <th>index</th>\n",
       "      <th>symptoms</th>\n",
       "      <th>count</th>\n",
       "      <th>percent</th>\n",
       "    </tr>\n",
       "  </thead>\n",
       "  <tbody>\n",
       "    <tr>\n",
       "      <th>0</th>\n",
       "      <td>128</td>\n",
       "      <td>HEAVY MENSTRUAL BLEEDING</td>\n",
       "      <td>5,670.00</td>\n",
       "      <td>47.05</td>\n",
       "    </tr>\n",
       "    <tr>\n",
       "      <th>1</th>\n",
       "      <td>170</td>\n",
       "      <td>MENSTRUATION IRREGULAR</td>\n",
       "      <td>4,329.00</td>\n",
       "      <td>35.92</td>\n",
       "    </tr>\n",
       "    <tr>\n",
       "      <th>2</th>\n",
       "      <td>172</td>\n",
       "      <td>HOT FLUSH</td>\n",
       "      <td>4,243.00</td>\n",
       "      <td>35.21</td>\n",
       "    </tr>\n",
       "    <tr>\n",
       "      <th>3</th>\n",
       "      <td>194</td>\n",
       "      <td>MENSTRUAL DISORDER</td>\n",
       "      <td>3,258.00</td>\n",
       "      <td>27.03</td>\n",
       "    </tr>\n",
       "    <tr>\n",
       "      <th>4</th>\n",
       "      <td>246</td>\n",
       "      <td>DYSMENORRHOEA</td>\n",
       "      <td>2,384.00</td>\n",
       "      <td>19.78</td>\n",
       "    </tr>\n",
       "    <tr>\n",
       "      <th>5</th>\n",
       "      <td>251</td>\n",
       "      <td>BREAST PAIN</td>\n",
       "      <td>2,311.00</td>\n",
       "      <td>19.18</td>\n",
       "    </tr>\n",
       "    <tr>\n",
       "      <th>6</th>\n",
       "      <td>277</td>\n",
       "      <td>VAGINAL HAEMORRHAGE</td>\n",
       "      <td>1,979.00</td>\n",
       "      <td>16.42</td>\n",
       "    </tr>\n",
       "    <tr>\n",
       "      <th>7</th>\n",
       "      <td>305</td>\n",
       "      <td>INTERMENSTRUAL BLEEDING</td>\n",
       "      <td>1,678.00</td>\n",
       "      <td>13.92</td>\n",
       "    </tr>\n",
       "    <tr>\n",
       "      <th>8</th>\n",
       "      <td>474</td>\n",
       "      <td>BREAST SWELLING</td>\n",
       "      <td>905.00</td>\n",
       "      <td>7.51</td>\n",
       "    </tr>\n",
       "    <tr>\n",
       "      <th>9</th>\n",
       "      <td>488</td>\n",
       "      <td>POLYMENORRHOEA</td>\n",
       "      <td>854.00</td>\n",
       "      <td>7.09</td>\n",
       "    </tr>\n",
       "    <tr>\n",
       "      <th>10</th>\n",
       "      <td>531</td>\n",
       "      <td>OLIGOMENORRHOEA</td>\n",
       "      <td>763.00</td>\n",
       "      <td>6.33</td>\n",
       "    </tr>\n",
       "    <tr>\n",
       "      <th>11</th>\n",
       "      <td>591</td>\n",
       "      <td>BREAST TENDERNESS</td>\n",
       "      <td>641.00</td>\n",
       "      <td>5.32</td>\n",
       "    </tr>\n",
       "    <tr>\n",
       "      <th>12</th>\n",
       "      <td>815</td>\n",
       "      <td>MATERNAL EXPOSURE BEFORE PREGNANCY</td>\n",
       "      <td>392.00</td>\n",
       "      <td>3.25</td>\n",
       "    </tr>\n",
       "    <tr>\n",
       "      <th>13</th>\n",
       "      <td>1245</td>\n",
       "      <td>MENOPAUSE</td>\n",
       "      <td>192.00</td>\n",
       "      <td>1.59</td>\n",
       "    </tr>\n",
       "    <tr>\n",
       "      <th>14</th>\n",
       "      <td>1265</td>\n",
       "      <td>OVARIAN CYST</td>\n",
       "      <td>188.00</td>\n",
       "      <td>1.56</td>\n",
       "    </tr>\n",
       "    <tr>\n",
       "      <th>15</th>\n",
       "      <td>1468</td>\n",
       "      <td>UTERINE LEIOMYOMA</td>\n",
       "      <td>145.00</td>\n",
       "      <td>1.20</td>\n",
       "    </tr>\n",
       "    <tr>\n",
       "      <th>16</th>\n",
       "      <td>1631</td>\n",
       "      <td>ABNORMAL UTERINE BLEEDING</td>\n",
       "      <td>120.00</td>\n",
       "      <td>1.00</td>\n",
       "    </tr>\n",
       "    <tr>\n",
       "      <th>17</th>\n",
       "      <td>2998</td>\n",
       "      <td>BACTERIAL VAGINOSIS</td>\n",
       "      <td>34.00</td>\n",
       "      <td>0.28</td>\n",
       "    </tr>\n",
       "    <tr>\n",
       "      <th>18</th>\n",
       "      <td>3238</td>\n",
       "      <td>ANOVULATORY CYCLE</td>\n",
       "      <td>29.00</td>\n",
       "      <td>0.24</td>\n",
       "    </tr>\n",
       "    <tr>\n",
       "      <th>19</th>\n",
       "      <td>3466</td>\n",
       "      <td>BIOPSY UTERUS</td>\n",
       "      <td>24.00</td>\n",
       "      <td>0.20</td>\n",
       "    </tr>\n",
       "    <tr>\n",
       "      <th>20</th>\n",
       "      <td>3614</td>\n",
       "      <td>OVULATION DELAYED</td>\n",
       "      <td>22.00</td>\n",
       "      <td>0.18</td>\n",
       "    </tr>\n",
       "    <tr>\n",
       "      <th>21</th>\n",
       "      <td>5157</td>\n",
       "      <td>GYNAECOLOGICAL EXAMINATION ABNORMAL</td>\n",
       "      <td>9.00</td>\n",
       "      <td>0.07</td>\n",
       "    </tr>\n",
       "  </tbody>\n",
       "</table>\n",
       "</div>"
      ],
      "text/plain": [
       "    index                             symptoms     count percent\n",
       "0     128             HEAVY MENSTRUAL BLEEDING  5,670.00   47.05\n",
       "1     170               MENSTRUATION IRREGULAR  4,329.00   35.92\n",
       "2     172                            HOT FLUSH  4,243.00   35.21\n",
       "3     194                   MENSTRUAL DISORDER  3,258.00   27.03\n",
       "4     246                        DYSMENORRHOEA  2,384.00   19.78\n",
       "5     251                          BREAST PAIN  2,311.00   19.18\n",
       "6     277                  VAGINAL HAEMORRHAGE  1,979.00   16.42\n",
       "7     305              INTERMENSTRUAL BLEEDING  1,678.00   13.92\n",
       "8     474                      BREAST SWELLING    905.00    7.51\n",
       "9     488                       POLYMENORRHOEA    854.00    7.09\n",
       "10    531                      OLIGOMENORRHOEA    763.00    6.33\n",
       "11    591                    BREAST TENDERNESS    641.00    5.32\n",
       "12    815   MATERNAL EXPOSURE BEFORE PREGNANCY    392.00    3.25\n",
       "13   1245                            MENOPAUSE    192.00    1.59\n",
       "14   1265                         OVARIAN CYST    188.00    1.56\n",
       "15   1468                    UTERINE LEIOMYOMA    145.00    1.20\n",
       "16   1631            ABNORMAL UTERINE BLEEDING    120.00    1.00\n",
       "17   2998                  BACTERIAL VAGINOSIS     34.00    0.28\n",
       "18   3238                    ANOVULATORY CYCLE     29.00    0.24\n",
       "19   3466                        BIOPSY UTERUS     24.00    0.20\n",
       "20   3614                    OVULATION DELAYED     22.00    0.18\n",
       "21   5157  GYNAECOLOGICAL EXAMINATION ABNORMAL      9.00    0.07"
      ]
     },
     "metadata": {},
     "output_type": "display_data"
    }
   ],
   "source": [
    "temp = []\n",
    "\n",
    "for index,i in enumerate(all_symptoms):\n",
    "    if i[0].upper() in WRS_list:\n",
    "        temp.append(\n",
    "            {\n",
    "                'index':index,\n",
    "                'symptoms':i[0],\n",
    "                'count': '{:,.2f}'.format(i[1]),\n",
    "                'percent': '{:.2f}'.format((i[1]/len(all_symptoms))*100) \n",
    "            }\n",
    "        )\n",
    "\n",
    "temp = pd.DataFrame(temp)\n",
    "display(temp)"
   ]
  },
  {
   "cell_type": "code",
   "execution_count": null,
   "metadata": {},
   "outputs": [],
   "source": []
  },
  {
   "cell_type": "code",
   "execution_count": null,
   "metadata": {},
   "outputs": [],
   "source": []
  }
 ],
 "metadata": {
  "kernelspec": {
   "display_name": "Python 3 (ipykernel)",
   "language": "python",
   "name": "python3"
  },
  "language_info": {
   "codemirror_mode": {
    "name": "ipython",
    "version": 3
   },
   "file_extension": ".py",
   "mimetype": "text/x-python",
   "name": "python",
   "nbconvert_exporter": "python",
   "pygments_lexer": "ipython3",
   "version": "3.9.12"
  },
  "vscode": {
   "interpreter": {
    "hash": "0a54084e6b208ee8d1ce3989ffc20924477a5f55f5a43e22e699a6741623861e"
   }
  }
 },
 "nbformat": 4,
 "nbformat_minor": 4
}
